{
 "cells": [
  {
   "cell_type": "code",
   "execution_count": 3,
   "metadata": {
    "colab": {
     "base_uri": "https://localhost:8080/",
     "height": 122
    },
    "colab_type": "code",
    "id": "rUTj-aGLr6fV",
    "outputId": "dfcc90fe-7d12-4293-9734-f88c43d9409c"
   },
   "outputs": [
    {
     "name": "stdout",
     "output_type": "stream",
     "text": [
      "Go to this URL in a browser: https://accounts.google.com/o/oauth2/auth?client_id=947318989803-6bn6qk8qdgf4n4g3pfee6491hc0brc4i.apps.googleusercontent.com&redirect_uri=urn%3aietf%3awg%3aoauth%3a2.0%3aoob&response_type=code&scope=email%20https%3a%2f%2fwww.googleapis.com%2fauth%2fdocs.test%20https%3a%2f%2fwww.googleapis.com%2fauth%2fdrive%20https%3a%2f%2fwww.googleapis.com%2fauth%2fdrive.photos.readonly%20https%3a%2f%2fwww.googleapis.com%2fauth%2fpeopleapi.readonly\n",
      "\n",
      "Enter your authorization code:\n",
      "··········\n",
      "Mounted at /content/drive\n"
     ]
    }
   ],
   "source": [
    "from google.colab import drive\n",
    "drive.mount('/content/drive')"
   ]
  },
  {
   "cell_type": "markdown",
   "metadata": {
    "colab_type": "text",
    "id": "BgnoIhWUg9yP"
   },
   "source": [
    "# **Colab uses GPU**"
   ]
  },
  {
   "cell_type": "code",
   "execution_count": 4,
   "metadata": {
    "colab": {
     "base_uri": "https://localhost:8080/",
     "height": 34
    },
    "colab_type": "code",
    "id": "tSGnoUqusKwF",
    "outputId": "897a1e79-fa96-4a65-bba0-cec6963c83dc"
   },
   "outputs": [
    {
     "data": {
      "text/plain": [
       "'/device:GPU:0'"
      ]
     },
     "execution_count": 4,
     "metadata": {
      "tags": []
     },
     "output_type": "execute_result"
    }
   ],
   "source": [
    "#' ' means CPU whereas '/device:G:0' means GPU\n",
    "import tensorflow as tf\n",
    "tf.test.gpu_device_name()"
   ]
  },
  {
   "cell_type": "markdown",
   "metadata": {
    "colab_type": "text",
    "id": "9i8pbGE0g178"
   },
   "source": [
    "# **Import Necessary Libraries**"
   ]
  },
  {
   "cell_type": "code",
   "execution_count": 115,
   "metadata": {
    "colab": {
     "base_uri": "https://localhost:8080/",
     "height": 34
    },
    "colab_type": "code",
    "id": "KJiI6Y5vsUBk",
    "outputId": "18dcfba5-6250-478b-a061-7719daf02293"
   },
   "outputs": [
    {
     "name": "stdout",
     "output_type": "stream",
     "text": [
      "1.15.0\n"
     ]
    }
   ],
   "source": [
    "import os\n",
    "import time\n",
    "import zipfile\n",
    "import numpy as np\n",
    "import pandas as pd\n",
    "import seaborn as sns\n",
    "import tensorflow as tf\n",
    "from tensorflow import keras\n",
    "import matplotlib\n",
    "import matplotlib.pyplot as plt\n",
    "\n",
    "from keras_preprocessing.image import ImageDataGenerator,load_img\n",
    "from keras.models import Sequential,Model\n",
    "from keras.layers import Dense, Dropout, Flatten, Activation, BatchNormalization \n",
    "from keras.layers.convolutional import Conv2D\n",
    "from keras.layers.convolutional import MaxPooling2D\n",
    "from keras.optimizers import RMSprop\n",
    "from keras.applications import VGG19, ResNet50, InceptionV3,VGG16\n",
    "\n",
    "print(tf.__version__)\n"
   ]
  },
  {
   "cell_type": "markdown",
   "metadata": {
    "colab_type": "text",
    "id": "6My7LyNKhAzQ"
   },
   "source": [
    "# **Unzip the Dataset**"
   ]
  },
  {
   "cell_type": "code",
   "execution_count": 0,
   "metadata": {
    "colab": {},
    "colab_type": "code",
    "id": "nCc77104rfqz"
   },
   "outputs": [],
   "source": [
    "zip_ref = zipfile.ZipFile('drive/My Drive/Datasets/Flowers.zip', 'r')\n",
    "zip_ref.extractall('Flower') # unzip directory\n",
    "zip_ref.close()"
   ]
  },
  {
   "cell_type": "markdown",
   "metadata": {
    "colab_type": "text",
    "id": "F7m0kwsjhFnL"
   },
   "source": [
    "# **Load Data and Create Data Frame**"
   ]
  },
  {
   "cell_type": "code",
   "execution_count": 7,
   "metadata": {
    "colab": {
     "base_uri": "https://localhost:8080/",
     "height": 419
    },
    "colab_type": "code",
    "id": "UFnDGT9EslnV",
    "outputId": "85d059ef-c0c5-4f11-eb90-3758932aec8a"
   },
   "outputs": [
    {
     "data": {
      "text/html": [
       "<div>\n",
       "<style scoped>\n",
       "    .dataframe tbody tr th:only-of-type {\n",
       "        vertical-align: middle;\n",
       "    }\n",
       "\n",
       "    .dataframe tbody tr th {\n",
       "        vertical-align: top;\n",
       "    }\n",
       "\n",
       "    .dataframe thead th {\n",
       "        text-align: right;\n",
       "    }\n",
       "</style>\n",
       "<table border=\"1\" class=\"dataframe\">\n",
       "  <thead>\n",
       "    <tr style=\"text-align: right;\">\n",
       "      <th></th>\n",
       "      <th>Images</th>\n",
       "      <th>Class</th>\n",
       "    </tr>\n",
       "  </thead>\n",
       "  <tbody>\n",
       "    <tr>\n",
       "      <th>0</th>\n",
       "      <td>JFT_00001.jpg</td>\n",
       "      <td>1</td>\n",
       "    </tr>\n",
       "    <tr>\n",
       "      <th>1</th>\n",
       "      <td>JFT_00002.jpg</td>\n",
       "      <td>1</td>\n",
       "    </tr>\n",
       "    <tr>\n",
       "      <th>2</th>\n",
       "      <td>JFT_00003.jpg</td>\n",
       "      <td>1</td>\n",
       "    </tr>\n",
       "    <tr>\n",
       "      <th>3</th>\n",
       "      <td>JFT_00004.jpg</td>\n",
       "      <td>1</td>\n",
       "    </tr>\n",
       "    <tr>\n",
       "      <th>4</th>\n",
       "      <td>JFT_00006.jpg</td>\n",
       "      <td>1</td>\n",
       "    </tr>\n",
       "    <tr>\n",
       "      <th>...</th>\n",
       "      <td>...</td>\n",
       "      <td>...</td>\n",
       "    </tr>\n",
       "    <tr>\n",
       "      <th>1474</th>\n",
       "      <td>JFT_01467.jpg</td>\n",
       "      <td>29</td>\n",
       "    </tr>\n",
       "    <tr>\n",
       "      <th>1475</th>\n",
       "      <td>JFT_01470.jpg</td>\n",
       "      <td>30</td>\n",
       "    </tr>\n",
       "    <tr>\n",
       "      <th>1476</th>\n",
       "      <td>JFT_01472.jpg</td>\n",
       "      <td>30</td>\n",
       "    </tr>\n",
       "    <tr>\n",
       "      <th>1477</th>\n",
       "      <td>JFT_01476.jpg</td>\n",
       "      <td>30</td>\n",
       "    </tr>\n",
       "    <tr>\n",
       "      <th>1478</th>\n",
       "      <td>JFT_01477.jpg</td>\n",
       "      <td>30</td>\n",
       "    </tr>\n",
       "  </tbody>\n",
       "</table>\n",
       "<p>1479 rows × 2 columns</p>\n",
       "</div>"
      ],
      "text/plain": [
       "             Images  Class\n",
       "0     JFT_00001.jpg      1\n",
       "1     JFT_00002.jpg      1\n",
       "2     JFT_00003.jpg      1\n",
       "3     JFT_00004.jpg      1\n",
       "4     JFT_00006.jpg      1\n",
       "...             ...    ...\n",
       "1474  JFT_01467.jpg     29\n",
       "1475  JFT_01470.jpg     30\n",
       "1476  JFT_01472.jpg     30\n",
       "1477  JFT_01476.jpg     30\n",
       "1478  JFT_01477.jpg     30\n",
       "\n",
       "[1479 rows x 2 columns]"
      ]
     },
     "execution_count": 7,
     "metadata": {
      "tags": []
     },
     "output_type": "execute_result"
    }
   ],
   "source": [
    "flower_class = pd.read_csv('Flower/classlabels.txt', header = None, names=['Images','Class'])\n",
    "flower_class"
   ]
  },
  {
   "cell_type": "code",
   "execution_count": 8,
   "metadata": {
    "colab": {
     "base_uri": "https://localhost:8080/",
     "height": 419
    },
    "colab_type": "code",
    "id": "7WShZv6Ps7sj",
    "outputId": "25fb25d4-6120-4cde-9e6c-d0b36a681bb7"
   },
   "outputs": [
    {
     "data": {
      "text/html": [
       "<div>\n",
       "<style scoped>\n",
       "    .dataframe tbody tr th:only-of-type {\n",
       "        vertical-align: middle;\n",
       "    }\n",
       "\n",
       "    .dataframe tbody tr th {\n",
       "        vertical-align: top;\n",
       "    }\n",
       "\n",
       "    .dataframe thead th {\n",
       "        text-align: right;\n",
       "    }\n",
       "</style>\n",
       "<table border=\"1\" class=\"dataframe\">\n",
       "  <thead>\n",
       "    <tr style=\"text-align: right;\">\n",
       "      <th></th>\n",
       "      <th>Images</th>\n",
       "      <th>Class</th>\n",
       "      <th>N_Images</th>\n",
       "    </tr>\n",
       "  </thead>\n",
       "  <tbody>\n",
       "    <tr>\n",
       "      <th>0</th>\n",
       "      <td>JFT_00001.jpg</td>\n",
       "      <td>1</td>\n",
       "      <td>1</td>\n",
       "    </tr>\n",
       "    <tr>\n",
       "      <th>1</th>\n",
       "      <td>JFT_00002.jpg</td>\n",
       "      <td>1</td>\n",
       "      <td>2</td>\n",
       "    </tr>\n",
       "    <tr>\n",
       "      <th>2</th>\n",
       "      <td>JFT_00003.jpg</td>\n",
       "      <td>1</td>\n",
       "      <td>3</td>\n",
       "    </tr>\n",
       "    <tr>\n",
       "      <th>3</th>\n",
       "      <td>JFT_00004.jpg</td>\n",
       "      <td>1</td>\n",
       "      <td>4</td>\n",
       "    </tr>\n",
       "    <tr>\n",
       "      <th>4</th>\n",
       "      <td>JFT_00006.jpg</td>\n",
       "      <td>1</td>\n",
       "      <td>6</td>\n",
       "    </tr>\n",
       "    <tr>\n",
       "      <th>...</th>\n",
       "      <td>...</td>\n",
       "      <td>...</td>\n",
       "      <td>...</td>\n",
       "    </tr>\n",
       "    <tr>\n",
       "      <th>1474</th>\n",
       "      <td>JFT_01467.jpg</td>\n",
       "      <td>29</td>\n",
       "      <td>1467</td>\n",
       "    </tr>\n",
       "    <tr>\n",
       "      <th>1475</th>\n",
       "      <td>JFT_01470.jpg</td>\n",
       "      <td>30</td>\n",
       "      <td>1470</td>\n",
       "    </tr>\n",
       "    <tr>\n",
       "      <th>1476</th>\n",
       "      <td>JFT_01472.jpg</td>\n",
       "      <td>30</td>\n",
       "      <td>1472</td>\n",
       "    </tr>\n",
       "    <tr>\n",
       "      <th>1477</th>\n",
       "      <td>JFT_01476.jpg</td>\n",
       "      <td>30</td>\n",
       "      <td>1476</td>\n",
       "    </tr>\n",
       "    <tr>\n",
       "      <th>1478</th>\n",
       "      <td>JFT_01477.jpg</td>\n",
       "      <td>30</td>\n",
       "      <td>1477</td>\n",
       "    </tr>\n",
       "  </tbody>\n",
       "</table>\n",
       "<p>1479 rows × 3 columns</p>\n",
       "</div>"
      ],
      "text/plain": [
       "             Images  Class N_Images\n",
       "0     JFT_00001.jpg      1        1\n",
       "1     JFT_00002.jpg      1        2\n",
       "2     JFT_00003.jpg      1        3\n",
       "3     JFT_00004.jpg      1        4\n",
       "4     JFT_00006.jpg      1        6\n",
       "...             ...    ...      ...\n",
       "1474  JFT_01467.jpg     29     1467\n",
       "1475  JFT_01470.jpg     30     1470\n",
       "1476  JFT_01472.jpg     30     1472\n",
       "1477  JFT_01476.jpg     30     1476\n",
       "1478  JFT_01477.jpg     30     1477\n",
       "\n",
       "[1479 rows x 3 columns]"
      ]
     },
     "execution_count": 8,
     "metadata": {
      "tags": []
     },
     "output_type": "execute_result"
    }
   ],
   "source": [
    "flower_class['N_Images']= flower_class['Images'].str.strip('JFT_0000').str.strip('.jpg')\n",
    "flower_class"
   ]
  },
  {
   "cell_type": "markdown",
   "metadata": {
    "colab_type": "text",
    "id": "wyAe_ErRtBuv"
   },
   "source": [
    "# **Calculate the Baseline**"
   ]
  },
  {
   "cell_type": "code",
   "execution_count": 9,
   "metadata": {
    "colab": {
     "base_uri": "https://localhost:8080/",
     "height": 544
    },
    "colab_type": "code",
    "id": "_ZU8UnFDs-8o",
    "outputId": "1616c531-9c0d-45d0-e4a8-8c6f8fd20050"
   },
   "outputs": [
    {
     "data": {
      "text/plain": [
       "6     4.732928\n",
       "28    4.597701\n",
       "23    4.530088\n",
       "13    4.462475\n",
       "4     4.462475\n",
       "2     4.394861\n",
       "7     4.327248\n",
       "18    4.259635\n",
       "29    4.259635\n",
       "20    4.124408\n",
       "27    4.124408\n",
       "24    4.056795\n",
       "10    4.056795\n",
       "25    3.786342\n",
       "19    3.718729\n",
       "14    3.651116\n",
       "5     3.651116\n",
       "22    3.313049\n",
       "12    3.245436\n",
       "9     3.110210\n",
       "17    3.042596\n",
       "3     2.772143\n",
       "21    2.569304\n",
       "11    2.434077\n",
       "26    2.366464\n",
       "8     1.893171\n",
       "16    1.622718\n",
       "15    0.878972\n",
       "30    0.811359\n",
       "1     0.743746\n",
       "Name: Class, dtype: float64"
      ]
     },
     "execution_count": 9,
     "metadata": {
      "tags": []
     },
     "output_type": "execute_result"
    }
   ],
   "source": [
    "base_line = 100*flower_class['Class'].value_counts()/len(flower_class)\n",
    "base_line"
   ]
  },
  {
   "cell_type": "code",
   "execution_count": 10,
   "metadata": {
    "colab": {
     "base_uri": "https://localhost:8080/",
     "height": 513
    },
    "colab_type": "code",
    "id": "UvkOi5gAtL4h",
    "outputId": "adafde64-0b38-4baf-b6fd-813b33301c9e"
   },
   "outputs": [
    {
     "data": {
      "image/png": "[encoded data removed]",
      "text/plain": [
       "<Figure size 1080x576 with 1 Axes>"
      ]
     },
     "metadata": {
      "tags": []
     },
     "output_type": "display_data"
    }
   ],
   "source": [
    "plt.figure(figsize=(15, 8))\n",
    "sns.countplot(x='Class',data=flower_class)\n",
    "plt.title(\"Samples per Class\")\n",
    "plt.show()"
   ]
  },
  {
   "cell_type": "code",
   "execution_count": 11,
   "metadata": {
    "colab": {
     "base_uri": "https://localhost:8080/",
     "height": 419
    },
    "colab_type": "code",
    "id": "kWYCVUnHtOgB",
    "outputId": "a6649c36-d22f-4bfa-afe4-8d0a14a6e540"
   },
   "outputs": [
    {
     "data": {
      "text/html": [
       "<div>\n",
       "<style scoped>\n",
       "    .dataframe tbody tr th:only-of-type {\n",
       "        vertical-align: middle;\n",
       "    }\n",
       "\n",
       "    .dataframe tbody tr th {\n",
       "        vertical-align: top;\n",
       "    }\n",
       "\n",
       "    .dataframe thead th {\n",
       "        text-align: right;\n",
       "    }\n",
       "</style>\n",
       "<table border=\"1\" class=\"dataframe\">\n",
       "  <thead>\n",
       "    <tr style=\"text-align: right;\">\n",
       "      <th></th>\n",
       "      <th>Images</th>\n",
       "      <th>Class</th>\n",
       "      <th>N_Images</th>\n",
       "    </tr>\n",
       "  </thead>\n",
       "  <tbody>\n",
       "    <tr>\n",
       "      <th>0</th>\n",
       "      <td>JFT_00005.jpg</td>\n",
       "      <td>1</td>\n",
       "      <td>5</td>\n",
       "    </tr>\n",
       "    <tr>\n",
       "      <th>1</th>\n",
       "      <td>JFT_00007.jpg</td>\n",
       "      <td>1</td>\n",
       "      <td>7</td>\n",
       "    </tr>\n",
       "    <tr>\n",
       "      <th>2</th>\n",
       "      <td>JFT_00011.jpg</td>\n",
       "      <td>1</td>\n",
       "      <td>11</td>\n",
       "    </tr>\n",
       "    <tr>\n",
       "      <th>3</th>\n",
       "      <td>JFT_00012.jpg</td>\n",
       "      <td>2</td>\n",
       "      <td>12</td>\n",
       "    </tr>\n",
       "    <tr>\n",
       "      <th>4</th>\n",
       "      <td>JFT_00013.jpg</td>\n",
       "      <td>2</td>\n",
       "      <td>13</td>\n",
       "    </tr>\n",
       "    <tr>\n",
       "      <th>...</th>\n",
       "      <td>...</td>\n",
       "      <td>...</td>\n",
       "      <td>...</td>\n",
       "    </tr>\n",
       "    <tr>\n",
       "      <th>916</th>\n",
       "      <td>JFT_01467.jpg</td>\n",
       "      <td>29</td>\n",
       "      <td>1467</td>\n",
       "    </tr>\n",
       "    <tr>\n",
       "      <th>917</th>\n",
       "      <td>JFT_01470.jpg</td>\n",
       "      <td>30</td>\n",
       "      <td>1470</td>\n",
       "    </tr>\n",
       "    <tr>\n",
       "      <th>918</th>\n",
       "      <td>JFT_01472.jpg</td>\n",
       "      <td>30</td>\n",
       "      <td>1472</td>\n",
       "    </tr>\n",
       "    <tr>\n",
       "      <th>919</th>\n",
       "      <td>JFT_01476.jpg</td>\n",
       "      <td>30</td>\n",
       "      <td>1476</td>\n",
       "    </tr>\n",
       "    <tr>\n",
       "      <th>920</th>\n",
       "      <td>JFT_01477.jpg</td>\n",
       "      <td>30</td>\n",
       "      <td>1477</td>\n",
       "    </tr>\n",
       "  </tbody>\n",
       "</table>\n",
       "<p>921 rows × 3 columns</p>\n",
       "</div>"
      ],
      "text/plain": [
       "            Images Class N_Images\n",
       "0    JFT_00005.jpg     1        5\n",
       "1    JFT_00007.jpg     1        7\n",
       "2    JFT_00011.jpg     1       11\n",
       "3    JFT_00012.jpg     2       12\n",
       "4    JFT_00013.jpg     2       13\n",
       "..             ...   ...      ...\n",
       "916  JFT_01467.jpg    29     1467\n",
       "917  JFT_01470.jpg    30     1470\n",
       "918  JFT_01472.jpg    30     1472\n",
       "919  JFT_01476.jpg    30     1476\n",
       "920  JFT_01477.jpg    30     1477\n",
       "\n",
       "[921 rows x 3 columns]"
      ]
     },
     "execution_count": 11,
     "metadata": {
      "tags": []
     },
     "output_type": "execute_result"
    }
   ],
   "source": [
    "train1 = pd.read_csv('Flower/tst1.txt',header= None,names=['N_Images'])\n",
    "train1['N_Images'] = train1['N_Images'].apply(str)\n",
    "train1df = flower_class.merge(train1, on= 'N_Images')\n",
    "train1df['Class'] = train1df['Class'].apply(str)\n",
    "train1df"
   ]
  },
  {
   "cell_type": "code",
   "execution_count": 12,
   "metadata": {
    "colab": {
     "base_uri": "https://localhost:8080/",
     "height": 419
    },
    "colab_type": "code",
    "id": "JsmIaIFWtS33",
    "outputId": "3a15075f-8f93-4f4f-ace5-567d77490739"
   },
   "outputs": [
    {
     "data": {
      "text/html": [
       "<div>\n",
       "<style scoped>\n",
       "    .dataframe tbody tr th:only-of-type {\n",
       "        vertical-align: middle;\n",
       "    }\n",
       "\n",
       "    .dataframe tbody tr th {\n",
       "        vertical-align: top;\n",
       "    }\n",
       "\n",
       "    .dataframe thead th {\n",
       "        text-align: right;\n",
       "    }\n",
       "</style>\n",
       "<table border=\"1\" class=\"dataframe\">\n",
       "  <thead>\n",
       "    <tr style=\"text-align: right;\">\n",
       "      <th></th>\n",
       "      <th>Images</th>\n",
       "      <th>Class</th>\n",
       "      <th>N_Images</th>\n",
       "    </tr>\n",
       "  </thead>\n",
       "  <tbody>\n",
       "    <tr>\n",
       "      <th>0</th>\n",
       "      <td>JFT_00001.jpg</td>\n",
       "      <td>1</td>\n",
       "      <td>1</td>\n",
       "    </tr>\n",
       "    <tr>\n",
       "      <th>1</th>\n",
       "      <td>JFT_00003.jpg</td>\n",
       "      <td>1</td>\n",
       "      <td>3</td>\n",
       "    </tr>\n",
       "    <tr>\n",
       "      <th>2</th>\n",
       "      <td>JFT_00006.jpg</td>\n",
       "      <td>1</td>\n",
       "      <td>6</td>\n",
       "    </tr>\n",
       "    <tr>\n",
       "      <th>3</th>\n",
       "      <td>JFT_00008.jpg</td>\n",
       "      <td>1</td>\n",
       "      <td>8</td>\n",
       "    </tr>\n",
       "    <tr>\n",
       "      <th>4</th>\n",
       "      <td>JFT_00018.jpg</td>\n",
       "      <td>2</td>\n",
       "      <td>18</td>\n",
       "    </tr>\n",
       "    <tr>\n",
       "      <th>...</th>\n",
       "      <td>...</td>\n",
       "      <td>...</td>\n",
       "      <td>...</td>\n",
       "    </tr>\n",
       "    <tr>\n",
       "      <th>274</th>\n",
       "      <td>JFT_01462.jpg</td>\n",
       "      <td>29</td>\n",
       "      <td>1462</td>\n",
       "    </tr>\n",
       "    <tr>\n",
       "      <th>275</th>\n",
       "      <td>JFT_01469.jpg</td>\n",
       "      <td>30</td>\n",
       "      <td>1469</td>\n",
       "    </tr>\n",
       "    <tr>\n",
       "      <th>276</th>\n",
       "      <td>JFT_01471.jpg</td>\n",
       "      <td>30</td>\n",
       "      <td>1471</td>\n",
       "    </tr>\n",
       "    <tr>\n",
       "      <th>277</th>\n",
       "      <td>JFT_01474.jpg</td>\n",
       "      <td>30</td>\n",
       "      <td>1474</td>\n",
       "    </tr>\n",
       "    <tr>\n",
       "      <th>278</th>\n",
       "      <td>JFT_01479.jpg</td>\n",
       "      <td>30</td>\n",
       "      <td>1479</td>\n",
       "    </tr>\n",
       "  </tbody>\n",
       "</table>\n",
       "<p>279 rows × 3 columns</p>\n",
       "</div>"
      ],
      "text/plain": [
       "            Images Class N_Images\n",
       "0    JFT_00001.jpg     1        1\n",
       "1    JFT_00003.jpg     1        3\n",
       "2    JFT_00006.jpg     1        6\n",
       "3    JFT_00008.jpg     1        8\n",
       "4    JFT_00018.jpg     2       18\n",
       "..             ...   ...      ...\n",
       "274  JFT_01462.jpg    29     1462\n",
       "275  JFT_01469.jpg    30     1469\n",
       "276  JFT_01471.jpg    30     1471\n",
       "277  JFT_01474.jpg    30     1474\n",
       "278  JFT_01479.jpg    30     1479\n",
       "\n",
       "[279 rows x 3 columns]"
      ]
     },
     "execution_count": 12,
     "metadata": {
      "tags": []
     },
     "output_type": "execute_result"
    }
   ],
   "source": [
    "val1 = pd.read_csv('Flower/val1.txt',sep = ' ',header= None,names=['N_Images'])\n",
    "val1['N_Images'] = val1['N_Images'].apply(str)\n",
    "val1df = flower_class.merge(val1, on= 'N_Images')\n",
    "val1df['Class'] = val1df['Class'].apply(str)\n",
    "val1df"
   ]
  },
  {
   "cell_type": "code",
   "execution_count": 13,
   "metadata": {
    "colab": {
     "base_uri": "https://localhost:8080/",
     "height": 419
    },
    "colab_type": "code",
    "id": "KM6Qz14MtV7c",
    "outputId": "f38621f0-bacc-46b1-d806-870f2ed8744c"
   },
   "outputs": [
    {
     "data": {
      "text/html": [
       "<div>\n",
       "<style scoped>\n",
       "    .dataframe tbody tr th:only-of-type {\n",
       "        vertical-align: middle;\n",
       "    }\n",
       "\n",
       "    .dataframe tbody tr th {\n",
       "        vertical-align: top;\n",
       "    }\n",
       "\n",
       "    .dataframe thead th {\n",
       "        text-align: right;\n",
       "    }\n",
       "</style>\n",
       "<table border=\"1\" class=\"dataframe\">\n",
       "  <thead>\n",
       "    <tr style=\"text-align: right;\">\n",
       "      <th></th>\n",
       "      <th>Images</th>\n",
       "      <th>Class</th>\n",
       "      <th>N_Images</th>\n",
       "    </tr>\n",
       "  </thead>\n",
       "  <tbody>\n",
       "    <tr>\n",
       "      <th>0</th>\n",
       "      <td>JFT_00002.jpg</td>\n",
       "      <td>1</td>\n",
       "      <td>2</td>\n",
       "    </tr>\n",
       "    <tr>\n",
       "      <th>1</th>\n",
       "      <td>JFT_00004.jpg</td>\n",
       "      <td>1</td>\n",
       "      <td>4</td>\n",
       "    </tr>\n",
       "    <tr>\n",
       "      <th>2</th>\n",
       "      <td>JFT_00009.jpg</td>\n",
       "      <td>1</td>\n",
       "      <td>9</td>\n",
       "    </tr>\n",
       "    <tr>\n",
       "      <th>3</th>\n",
       "      <td>JFT_00010.jpg</td>\n",
       "      <td>1</td>\n",
       "      <td>10</td>\n",
       "    </tr>\n",
       "    <tr>\n",
       "      <th>4</th>\n",
       "      <td>JFT_00021.jpg</td>\n",
       "      <td>2</td>\n",
       "      <td>21</td>\n",
       "    </tr>\n",
       "    <tr>\n",
       "      <th>...</th>\n",
       "      <td>...</td>\n",
       "      <td>...</td>\n",
       "      <td>...</td>\n",
       "    </tr>\n",
       "    <tr>\n",
       "      <th>274</th>\n",
       "      <td>JFT_01466.jpg</td>\n",
       "      <td>29</td>\n",
       "      <td>1466</td>\n",
       "    </tr>\n",
       "    <tr>\n",
       "      <th>275</th>\n",
       "      <td>JFT_01468.jpg</td>\n",
       "      <td>30</td>\n",
       "      <td>1468</td>\n",
       "    </tr>\n",
       "    <tr>\n",
       "      <th>276</th>\n",
       "      <td>JFT_01473.jpg</td>\n",
       "      <td>30</td>\n",
       "      <td>1473</td>\n",
       "    </tr>\n",
       "    <tr>\n",
       "      <th>277</th>\n",
       "      <td>JFT_01475.jpg</td>\n",
       "      <td>30</td>\n",
       "      <td>1475</td>\n",
       "    </tr>\n",
       "    <tr>\n",
       "      <th>278</th>\n",
       "      <td>JFT_01478.jpg</td>\n",
       "      <td>30</td>\n",
       "      <td>1478</td>\n",
       "    </tr>\n",
       "  </tbody>\n",
       "</table>\n",
       "<p>279 rows × 3 columns</p>\n",
       "</div>"
      ],
      "text/plain": [
       "            Images Class N_Images\n",
       "0    JFT_00002.jpg     1        2\n",
       "1    JFT_00004.jpg     1        4\n",
       "2    JFT_00009.jpg     1        9\n",
       "3    JFT_00010.jpg     1       10\n",
       "4    JFT_00021.jpg     2       21\n",
       "..             ...   ...      ...\n",
       "274  JFT_01466.jpg    29     1466\n",
       "275  JFT_01468.jpg    30     1468\n",
       "276  JFT_01473.jpg    30     1473\n",
       "277  JFT_01475.jpg    30     1475\n",
       "278  JFT_01478.jpg    30     1478\n",
       "\n",
       "[279 rows x 3 columns]"
      ]
     },
     "execution_count": 13,
     "metadata": {
      "tags": []
     },
     "output_type": "execute_result"
    }
   ],
   "source": [
    "test1 = pd.read_csv('Flower/trn1.txt',sep = ' ',header= None,names=['N_Images'])\n",
    "test1['N_Images'] = test1['N_Images'].apply(str)\n",
    "test1df = flower_class.merge(test1, on= 'N_Images')\n",
    "test1df['Class'] = test1df['Class'].apply(str)\n",
    "test1df"
   ]
  },
  {
   "cell_type": "code",
   "execution_count": 14,
   "metadata": {
    "colab": {
     "base_uri": "https://localhost:8080/",
     "height": 85
    },
    "colab_type": "code",
    "id": "PEKY5mkHtZYD",
    "outputId": "c2148bbb-6e2f-4526-f6be-d85ac33a17e7"
   },
   "outputs": [
    {
     "name": "stdout",
     "output_type": "stream",
     "text": [
      "Total Number of Images 1479\n",
      "Number of Training Images 921\n",
      "Number of Validation Images 279\n",
      "Number of Training Images 279\n"
     ]
    }
   ],
   "source": [
    "print(\"Total Number of Images\",flower_class.shape[0])\n",
    "print(\"Number of Training Images\", train1df.shape[0])\n",
    "print(\"Number of Validation Images\", val1df.shape[0])\n",
    "print(\"Number of Training Images\", test1df.shape[0])"
   ]
  },
  {
   "cell_type": "markdown",
   "metadata": {
    "colab_type": "text",
    "id": "S2af2u00ti_n"
   },
   "source": [
    "# **Data Augmentation**"
   ]
  },
  {
   "cell_type": "code",
   "execution_count": 16,
   "metadata": {
    "colab": {
     "base_uri": "https://localhost:8080/",
     "height": 119
    },
    "colab_type": "code",
    "id": "CaGfV2edteuc",
    "outputId": "b2baef2b-0162-42e5-cca9-9a664037a286"
   },
   "outputs": [
    {
     "name": "stdout",
     "output_type": "stream",
     "text": [
      "Found 921 validated image filenames belonging to 30 classes.\n",
      "Train generator created\n",
      "Found 279 validated image filenames belonging to 30 classes.\n",
      "Validation generator created\n",
      "Found 279 validated image filenames.\n",
      "Test generator created\n"
     ]
    }
   ],
   "source": [
    "datagen=ImageDataGenerator(rescale=1./255.,\n",
    "                           featurewise_center=False,\n",
    "                           featurewise_std_normalization=False,\n",
    "                           rotation_range=90,\n",
    "                           width_shift_range=0.2,\n",
    "                           height_shift_range=0.2,\n",
    "                           horizontal_flip=True,\n",
    "                           vertical_flip=True)\n",
    "\n",
    "train1_generator=datagen.flow_from_dataframe(\n",
    "dataframe=train1df,\n",
    "directory=\"Flower/jpg/\",\n",
    "x_col=\"Images\",\n",
    "y_col=\"Class\",\n",
    "subset=\"training\",\n",
    "batch_size=128,\n",
    "seed=42,\n",
    "shuffle=True,\n",
    "class_mode=\"categorical\",\n",
    "color_mode=\"rgb\",\n",
    "#target_size=(256,256))\n",
    "target_size=(128,128))\n",
    "print('Train generator created')\n",
    "\n",
    "\n",
    "val1_generator=datagen.flow_from_dataframe(\n",
    "dataframe=val1df,\n",
    "directory=\"Flower/jpg/\",\n",
    "x_col=\"Images\",\n",
    "y_col=\"Class\",\n",
    "subset=\"training\",\n",
    "batch_size=128,\n",
    "seed=42,\n",
    "shuffle=True,\n",
    "class_mode=\"categorical\",\n",
    "#target_size=(256,256))\n",
    "target_size=(128,128))\n",
    "print('Validation generator created')\n",
    "\n",
    "test1_generator=datagen.flow_from_dataframe(\n",
    "dataframe=test1df,\n",
    "directory=\"Flower/jpg/\",\n",
    "x_col=\"Images\",\n",
    "y_col=\"Class\",\n",
    "subset=\"training\",\n",
    "#batch_size=128,\n",
    "batch_size= 1,\n",
    "color_mode=\"rgb\",\n",
    "seed=42,\n",
    "shuffle=False,\n",
    "#class_mode=\"sparse\",\n",
    "class_mode = None,\n",
    "#target_size=(256,256))\n",
    "target_size=(128,128))\n",
    "print('Test generator created')"
   ]
  },
  {
   "cell_type": "code",
   "execution_count": 17,
   "metadata": {
    "colab": {
     "base_uri": "https://localhost:8080/",
     "height": 268
    },
    "colab_type": "code",
    "id": "4jLCtQM3tl31",
    "outputId": "6b1bb17b-deeb-4645-f274-13cd1aaf3ef1"
   },
   "outputs": [
    {
     "data": {
      "image/png": "[encoded data removed]",
      "text/plain": [
       "<Figure size 432x288 with 1 Axes>"
      ]
     },
     "metadata": {
      "tags": []
     },
     "output_type": "display_data"
    }
   ],
   "source": [
    "image, label = next(iter(train1_generator))\n",
    "plt.imshow(image[0,:]);"
   ]
  },
  {
   "cell_type": "markdown",
   "metadata": {
    "colab_type": "text",
    "id": "JvXIJYRlt8Of"
   },
   "source": [
    "# **Build the Model**"
   ]
  },
  {
   "cell_type": "markdown",
   "metadata": {
    "colab_type": "text",
    "id": "DI7fcQfCJ0Sq"
   },
   "source": [
    "**VGG19** for fine tuning"
   ]
  },
  {
   "cell_type": "code",
   "execution_count": 0,
   "metadata": {
    "colab": {},
    "colab_type": "code",
    "id": "kwW7utAUw_VQ"
   },
   "outputs": [],
   "source": [
    "model = VGG19(weights='imagenet', include_top=False, input_shape=(128, 128, 3))"
   ]
  },
  {
   "cell_type": "code",
   "execution_count": 75,
   "metadata": {
    "colab": {
     "base_uri": "https://localhost:8080/",
     "height": 391
    },
    "colab_type": "code",
    "id": "LBKi9AuBxV1M",
    "outputId": "ceafb573-113e-4585-84d3-c3869b6654d4"
   },
   "outputs": [
    {
     "name": "stdout",
     "output_type": "stream",
     "text": [
      "<keras.engine.input_layer.InputLayer object at 0x7eff363015f8> False\n",
      "<keras.layers.convolutional.Conv2D object at 0x7eff35ca4cf8> False\n",
      "<keras.layers.convolutional.Conv2D object at 0x7eff35cb5240> False\n",
      "<keras.layers.pooling.MaxPooling2D object at 0x7eff35c63470> False\n",
      "<keras.layers.convolutional.Conv2D object at 0x7eff35c93c18> False\n",
      "<keras.layers.convolutional.Conv2D object at 0x7eff35c98470> False\n",
      "<keras.layers.pooling.MaxPooling2D object at 0x7eff35c1b4e0> False\n",
      "<keras.layers.convolutional.Conv2D object at 0x7eff35c20898> False\n",
      "<keras.layers.convolutional.Conv2D object at 0x7eff35c289e8> False\n",
      "<keras.layers.convolutional.Conv2D object at 0x7eff35c2ca58> False\n",
      "<keras.layers.convolutional.Conv2D object at 0x7eff35c38240> False\n",
      "<keras.layers.pooling.MaxPooling2D object at 0x7eff35c39ba8> False\n",
      "<keras.layers.convolutional.Conv2D object at 0x7eff35c47a90> False\n",
      "<keras.layers.convolutional.Conv2D object at 0x7eff35c50358> False\n",
      "<keras.layers.convolutional.Conv2D object at 0x7eff35c56128> False\n",
      "<keras.layers.convolutional.Conv2D object at 0x7eff35bdcb70> False\n",
      "<keras.layers.pooling.MaxPooling2D object at 0x7eff35be96a0> False\n",
      "<keras.layers.convolutional.Conv2D object at 0x7eff35beab00> False\n",
      "<keras.layers.convolutional.Conv2D object at 0x7eff35bf6c50> False\n",
      "<keras.layers.convolutional.Conv2D object at 0x7eff35bfba58> False\n",
      "<keras.layers.convolutional.Conv2D object at 0x7eff35c07668> False\n",
      "<keras.layers.pooling.MaxPooling2D object at 0x7eff35c0fe48> True\n"
     ]
    }
   ],
   "source": [
    "\n",
    "for layer in vgg_conv.layers[:1]:\n",
    "  layer.trainable = False\n",
    "\n",
    "# Check the trainable status of the individual layers\n",
    "\n",
    "for layer in vgg_conv.layers:\n",
    "    print(layer, layer.trainable)\n"
   ]
  },
  {
   "cell_type": "code",
   "execution_count": 116,
   "metadata": {
    "colab": {
     "base_uri": "https://localhost:8080/",
     "height": 323
    },
    "colab_type": "code",
    "id": "okKoUvobx1f2",
    "outputId": "ac4275b0-2cb4-4ee5-8599-39f153ff2031"
   },
   "outputs": [
    {
     "name": "stdout",
     "output_type": "stream",
     "text": [
      "Model: \"sequential_9\"\n",
      "_________________________________________________________________\n",
      "Layer (type)                 Output Shape              Param #   \n",
      "=================================================================\n",
      "vgg19 (Model)                (None, 4, 4, 512)         20024384  \n",
      "_________________________________________________________________\n",
      "flatten_10 (Flatten)         (None, 8192)              0         \n",
      "_________________________________________________________________\n",
      "dense_35 (Dense)             (None, 1024)              8389632   \n",
      "_________________________________________________________________\n",
      "dropout_16 (Dropout)         (None, 1024)              0         \n",
      "_________________________________________________________________\n",
      "dense_36 (Dense)             (None, 30)                30750     \n",
      "=================================================================\n",
      "Total params: 28,444,766\n",
      "Trainable params: 8,420,382\n",
      "Non-trainable params: 20,024,384\n",
      "_________________________________________________________________\n"
     ]
    }
   ],
   "source": [
    "from keras import models\n",
    "from keras import layers\n",
    "from keras import optimizers\n",
    "\n",
    "# Create the model\n",
    "model = models.Sequential()\n",
    "\n",
    "# Add the vgg convolutional base model\n",
    "model.add(vgg_conv)\n",
    " \n",
    "# Add new layers\n",
    "model.add(layers.Flatten())\n",
    "model.add(layers.Dense(1024, activation='relu'))\n",
    "model.add(layers.Dropout(0.5))\n",
    "model.add(layers.Dense(30, activation='softmax'))\n",
    "\n",
    "# Show a summary of the model. Check the number of trainable parameters\n",
    "model.summary()\n"
   ]
  },
  {
   "cell_type": "markdown",
   "metadata": {
    "colab_type": "text",
    "id": "5n_3_snNvXsZ"
   },
   "source": [
    "# **Compile the model**"
   ]
  },
  {
   "cell_type": "code",
   "execution_count": 0,
   "metadata": {
    "colab": {},
    "colab_type": "code",
    "id": "im9NdYR7yvyR"
   },
   "outputs": [],
   "source": [
    "#model.compile(loss='categorical_crossentropy', optimizer='adam', metrics=['acc']) # optimizer=RMSprop(lr=0.001)\n",
    "model.compile(loss='categorical_crossentropy',optimizer=optimizers.RMSprop(lr=1e-4),metrics=['acc'])\n",
    "#optimizers.RMSprop(lr=1e-4)"
   ]
  },
  {
   "cell_type": "code",
   "execution_count": 119,
   "metadata": {
    "colab": {
     "base_uri": "https://localhost:8080/",
     "height": 1000
    },
    "colab_type": "code",
    "id": "ce8ZPYC1y6J2",
    "outputId": "cd2c6010-df02-4ee5-a4fc-e4f8ac39f1b0"
   },
   "outputs": [
    {
     "name": "stdout",
     "output_type": "stream",
     "text": [
      "Epoch 1/500\n",
      "8/8 [==============================] - 23s 3s/step - loss: 3.2350 - acc: 0.1336 - val_loss: 2.7999 - val_acc: 0.3118\n",
      "Epoch 2/500\n",
      "8/8 [==============================] - 21s 3s/step - loss: 2.5067 - acc: 0.3312 - val_loss: 2.2812 - val_acc: 0.4624\n",
      "Epoch 3/500\n",
      "8/8 [==============================] - 21s 3s/step - loss: 2.1028 - acc: 0.4439 - val_loss: 2.0867 - val_acc: 0.4910\n",
      "Epoch 4/500\n",
      "8/8 [==============================] - 21s 3s/step - loss: 1.9349 - acc: 0.4843 - val_loss: 1.8763 - val_acc: 0.5448\n",
      "Epoch 5/500\n",
      "8/8 [==============================] - 21s 3s/step - loss: 1.6411 - acc: 0.5729 - val_loss: 1.8456 - val_acc: 0.4695\n",
      "Epoch 6/500\n",
      "8/8 [==============================] - 21s 3s/step - loss: 1.5491 - acc: 0.5996 - val_loss: 1.5652 - val_acc: 0.6129\n",
      "Epoch 7/500\n",
      "8/8 [==============================] - 21s 3s/step - loss: 1.4495 - acc: 0.5882 - val_loss: 1.4810 - val_acc: 0.6201\n",
      "Epoch 8/500\n",
      "8/8 [==============================] - 21s 3s/step - loss: 1.2823 - acc: 0.6501 - val_loss: 1.3903 - val_acc: 0.6272\n",
      "Epoch 9/500\n",
      "8/8 [==============================] - 21s 3s/step - loss: 1.2178 - acc: 0.6506 - val_loss: 1.2728 - val_acc: 0.6989\n",
      "Epoch 10/500\n",
      "8/8 [==============================] - 21s 3s/step - loss: 1.0774 - acc: 0.7187 - val_loss: 1.3246 - val_acc: 0.6022\n",
      "Epoch 11/500\n",
      "8/8 [==============================] - 21s 3s/step - loss: 1.0793 - acc: 0.7102 - val_loss: 1.1263 - val_acc: 0.7133\n",
      "Epoch 12/500\n",
      "8/8 [==============================] - 21s 3s/step - loss: 0.9796 - acc: 0.7333 - val_loss: 1.1048 - val_acc: 0.6846\n",
      "Epoch 13/500\n",
      "8/8 [==============================] - 21s 3s/step - loss: 0.9591 - acc: 0.7288 - val_loss: 1.0369 - val_acc: 0.7204\n",
      "Epoch 14/500\n",
      "8/8 [==============================] - 21s 3s/step - loss: 0.8562 - acc: 0.7775 - val_loss: 1.1062 - val_acc: 0.6667\n",
      "Epoch 15/500\n",
      "8/8 [==============================] - 21s 3s/step - loss: 0.9303 - acc: 0.7297 - val_loss: 1.1854 - val_acc: 0.6308\n",
      "Epoch 16/500\n",
      "8/8 [==============================] - 21s 3s/step - loss: 0.8478 - acc: 0.7745 - val_loss: 0.9730 - val_acc: 0.7204\n",
      "Epoch 17/500\n",
      "8/8 [==============================] - 21s 3s/step - loss: 0.8179 - acc: 0.7602 - val_loss: 0.9526 - val_acc: 0.7276\n",
      "Epoch 18/500\n",
      "8/8 [==============================] - 21s 3s/step - loss: 0.7803 - acc: 0.7667 - val_loss: 0.8715 - val_acc: 0.7885\n",
      "Epoch 19/500\n",
      "8/8 [==============================] - 21s 3s/step - loss: 0.7210 - acc: 0.7917 - val_loss: 0.8428 - val_acc: 0.7563\n",
      "Epoch 20/500\n",
      "8/8 [==============================] - 21s 3s/step - loss: 0.6827 - acc: 0.8162 - val_loss: 0.8442 - val_acc: 0.7670\n",
      "Epoch 21/500\n",
      "8/8 [==============================] - 21s 3s/step - loss: 0.6847 - acc: 0.7978 - val_loss: 0.8118 - val_acc: 0.7599\n",
      "Epoch 22/500\n",
      "8/8 [==============================] - 21s 3s/step - loss: 0.7205 - acc: 0.8049 - val_loss: 0.7461 - val_acc: 0.7957\n",
      "Epoch 23/500\n",
      "8/8 [==============================] - 21s 3s/step - loss: 0.6702 - acc: 0.8255 - val_loss: 0.7573 - val_acc: 0.8029\n",
      "Epoch 24/500\n",
      "8/8 [==============================] - 21s 3s/step - loss: 0.6173 - acc: 0.8275 - val_loss: 0.7311 - val_acc: 0.7921\n",
      "Epoch 25/500\n",
      "8/8 [==============================] - 21s 3s/step - loss: 0.6128 - acc: 0.8159 - val_loss: 0.7330 - val_acc: 0.8029\n",
      "Epoch 26/500\n",
      "8/8 [==============================] - 21s 3s/step - loss: 0.6332 - acc: 0.8134 - val_loss: 0.7054 - val_acc: 0.8100\n",
      "Epoch 27/500\n",
      "8/8 [==============================] - 21s 3s/step - loss: 0.5696 - acc: 0.8276 - val_loss: 0.7129 - val_acc: 0.7921\n",
      "Epoch 28/500\n",
      "8/8 [==============================] - 21s 3s/step - loss: 0.5068 - acc: 0.8574 - val_loss: 0.8011 - val_acc: 0.7348\n",
      "Epoch 29/500\n",
      "8/8 [==============================] - 21s 3s/step - loss: 0.5734 - acc: 0.8164 - val_loss: 0.6715 - val_acc: 0.8065\n",
      "Epoch 30/500\n",
      "8/8 [==============================] - 21s 3s/step - loss: 0.5808 - acc: 0.8275 - val_loss: 0.6173 - val_acc: 0.8172\n",
      "Epoch 31/500\n",
      "8/8 [==============================] - 21s 3s/step - loss: 0.5220 - acc: 0.8368 - val_loss: 0.6090 - val_acc: 0.8280\n",
      "Epoch 32/500\n",
      "8/8 [==============================] - 21s 3s/step - loss: 0.4758 - acc: 0.8627 - val_loss: 0.6385 - val_acc: 0.7957\n",
      "Epoch 33/500\n",
      "8/8 [==============================] - 21s 3s/step - loss: 0.4996 - acc: 0.8548 - val_loss: 0.6356 - val_acc: 0.7921\n",
      "Epoch 34/500\n",
      "8/8 [==============================] - 21s 3s/step - loss: 0.4798 - acc: 0.8614 - val_loss: 0.6140 - val_acc: 0.8244\n"
     ]
    }
   ],
   "source": [
    "# Train the model\n",
    "from keras.callbacks import EarlyStopping\n",
    "\n",
    "early_stopping_monitor = EarlyStopping(patience=3)\n",
    "EPOCHS = 500\n",
    "\n",
    "history = model.fit_generator(\n",
    "      train1_generator,validation_data = val1_generator, \n",
    "                   epochs=EPOCHS, callbacks=[early_stopping_monitor],\n",
    "                   verbose=1)  \n"
   ]
  },
  {
   "cell_type": "code",
   "execution_count": 120,
   "metadata": {
    "colab": {
     "base_uri": "https://localhost:8080/",
     "height": 350
    },
    "colab_type": "code",
    "id": "56Tmf74h3_cc",
    "outputId": "d8c10edf-9b64-4494-fa69-81a49486ae87"
   },
   "outputs": [
    {
     "data": {
      "image/png": "[encoded data removed]",
      "text/plain": [
       "<Figure size 1080x360 with 2 Axes>"
      ]
     },
     "metadata": {
      "tags": []
     },
     "output_type": "display_data"
    }
   ],
   "source": [
    "def plot_history(history):\n",
    "  plt.figure(figsize=(15, 5))\n",
    "  plt.subplot(1, 2, 1)\n",
    "  plt.xlabel('Epochs')\n",
    "  plt.ylabel('Accuracy')\n",
    "  plt.plot(history.epoch, np.array(history.history['acc']),\n",
    "           label='Train')\n",
    "  plt.plot(history.epoch, np.array(history.history['val_acc']),\n",
    "           label = 'Val')\n",
    "  plt.title('Model Accuracy')\n",
    "  plt.legend()\n",
    "  plt.ylim([0, 2])\n",
    "\n",
    "  plt.subplot(1, 2, 2)\n",
    "  plt.plot(history.history['loss'],label='Train')\n",
    "  plt.plot(history.history['val_loss'],label='Val')\n",
    "  plt.title('Model Loss')\n",
    "  plt.ylabel('Loss')\n",
    "  plt.xlabel('Epochs')\n",
    "  plt.legend()\n",
    "  plt.show()\n",
    "\n",
    "plot_history(history)"
   ]
  },
  {
   "cell_type": "markdown",
   "metadata": {
    "colab_type": "text",
    "id": "ZpyH6z9xbPmL"
   },
   "source": [
    "# **Model evaluation**"
   ]
  },
  {
   "cell_type": "markdown",
   "metadata": {
    "colab_type": "text",
    "id": "rW1qNA8MbYTl"
   },
   "source": [
    "**Test set**"
   ]
  },
  {
   "cell_type": "code",
   "execution_count": 121,
   "metadata": {
    "colab": {
     "base_uri": "https://localhost:8080/",
     "height": 34
    },
    "colab_type": "code",
    "id": "R0MF-U6bbeOX",
    "outputId": "86e8ceca-8d80-423e-d521-29b8250d71aa"
   },
   "outputs": [
    {
     "name": "stdout",
     "output_type": "stream",
     "text": [
      "3/3 [==============================] - 6s 2s/step\n"
     ]
    }
   ],
   "source": [
    "val1_generator.reset()\n",
    "pred=model.predict_generator(val1_generator,\n",
    "verbose=1)"
   ]
  },
  {
   "cell_type": "code",
   "execution_count": 0,
   "metadata": {
    "colab": {},
    "colab_type": "code",
    "id": "Z_Gna9lllGu7"
   },
   "outputs": [],
   "source": [
    "predicted_class_indices=np.argmax(pred,axis=1)"
   ]
  },
  {
   "cell_type": "code",
   "execution_count": 0,
   "metadata": {
    "colab": {},
    "colab_type": "code",
    "id": "u8osqpExlNYP"
   },
   "outputs": [],
   "source": [
    "labels = (train1_generator.class_indices)\n",
    "labels = dict((v,k) for k,v in labels.items())\n",
    "predictions = [labels[k] for k in predicted_class_indices]"
   ]
  },
  {
   "cell_type": "code",
   "execution_count": 124,
   "metadata": {
    "colab": {
     "base_uri": "https://localhost:8080/",
     "height": 359
    },
    "colab_type": "code",
    "id": "U15LaLXalZy7",
    "outputId": "4e95c13d-ffe4-45ba-adff-6243daaffc3c"
   },
   "outputs": [
    {
     "data": {
      "text/html": [
       "<div>\n",
       "<style scoped>\n",
       "    .dataframe tbody tr th:only-of-type {\n",
       "        vertical-align: middle;\n",
       "    }\n",
       "\n",
       "    .dataframe tbody tr th {\n",
       "        vertical-align: top;\n",
       "    }\n",
       "\n",
       "    .dataframe thead th {\n",
       "        text-align: right;\n",
       "    }\n",
       "</style>\n",
       "<table border=\"1\" class=\"dataframe\">\n",
       "  <thead>\n",
       "    <tr style=\"text-align: right;\">\n",
       "      <th></th>\n",
       "      <th>Filename</th>\n",
       "      <th>Predictions</th>\n",
       "    </tr>\n",
       "  </thead>\n",
       "  <tbody>\n",
       "    <tr>\n",
       "      <th>0</th>\n",
       "      <td>JFT_00001.jpg</td>\n",
       "      <td>28</td>\n",
       "    </tr>\n",
       "    <tr>\n",
       "      <th>1</th>\n",
       "      <td>JFT_00003.jpg</td>\n",
       "      <td>23</td>\n",
       "    </tr>\n",
       "    <tr>\n",
       "      <th>2</th>\n",
       "      <td>JFT_00006.jpg</td>\n",
       "      <td>2</td>\n",
       "    </tr>\n",
       "    <tr>\n",
       "      <th>3</th>\n",
       "      <td>JFT_00008.jpg</td>\n",
       "      <td>11</td>\n",
       "    </tr>\n",
       "    <tr>\n",
       "      <th>4</th>\n",
       "      <td>JFT_00018.jpg</td>\n",
       "      <td>22</td>\n",
       "    </tr>\n",
       "    <tr>\n",
       "      <th>5</th>\n",
       "      <td>JFT_00020.jpg</td>\n",
       "      <td>21</td>\n",
       "    </tr>\n",
       "    <tr>\n",
       "      <th>6</th>\n",
       "      <td>JFT_00024.jpg</td>\n",
       "      <td>27</td>\n",
       "    </tr>\n",
       "    <tr>\n",
       "      <th>7</th>\n",
       "      <td>JFT_00026.jpg</td>\n",
       "      <td>27</td>\n",
       "    </tr>\n",
       "    <tr>\n",
       "      <th>8</th>\n",
       "      <td>JFT_00050.jpg</td>\n",
       "      <td>2</td>\n",
       "    </tr>\n",
       "    <tr>\n",
       "      <th>9</th>\n",
       "      <td>JFT_00051.jpg</td>\n",
       "      <td>30</td>\n",
       "    </tr>\n",
       "  </tbody>\n",
       "</table>\n",
       "</div>"
      ],
      "text/plain": [
       "        Filename Predictions\n",
       "0  JFT_00001.jpg          28\n",
       "1  JFT_00003.jpg          23\n",
       "2  JFT_00006.jpg           2\n",
       "3  JFT_00008.jpg          11\n",
       "4  JFT_00018.jpg          22\n",
       "5  JFT_00020.jpg          21\n",
       "6  JFT_00024.jpg          27\n",
       "7  JFT_00026.jpg          27\n",
       "8  JFT_00050.jpg           2\n",
       "9  JFT_00051.jpg          30"
      ]
     },
     "execution_count": 124,
     "metadata": {
      "tags": []
     },
     "output_type": "execute_result"
    }
   ],
   "source": [
    "filenames=val1_generator.filenames\n",
    "results=pd.DataFrame({\"Filename\":filenames,\n",
    "                      \"Predictions\":predictions})\n",
    "results.head(10)\n",
    "results.to_csv(\"results.csv\",index=False)"
   ]
  }
 ],
 "metadata": {
  "accelerator": "GPU",
  "colab": {
   "collapsed_sections": [],
   "name": "Assignment2-Model2.ipynb",
   "provenance": []
  },
  "kernelspec": {
   "display_name": "Python 3",
   "language": "python",
   "name": "python3"
  },
  "language_info": {
   "codemirror_mode": {
    "name": "ipython",
    "version": 3
   },
   "file_extension": ".py",
   "mimetype": "text/x-python",
   "name": "python",
   "nbconvert_exporter": "python",
   "pygments_lexer": "ipython3",
   "version": "3.7.4"
  }
 },
 "nbformat": 4,
 "nbformat_minor": 1
}
