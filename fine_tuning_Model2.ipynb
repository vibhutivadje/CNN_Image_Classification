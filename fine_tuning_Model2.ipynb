{
 "cells": [
  {
   "cell_type": "code",
   "execution_count": 0,
   "metadata": {
    "colab": {
     "base_uri": "https://localhost:8080/",
     "height": 51
    },
    "colab_type": "code",
    "id": "ZME9YhSWrNox",
    "outputId": "a01fd075-e97b-480b-caa4-c0f2e043ba28"
   },
   "outputs": [
    {
     "name": "stdout",
     "output_type": "stream",
     "text": [
      "1.15.0\n"
     ]
    },
    {
     "name": "stderr",
     "output_type": "stream",
     "text": [
      "Using TensorFlow backend.\n"
     ]
    }
   ],
   "source": []
  },
  {
   "cell_type": "markdown",
   "metadata": {
    "colab_type": "text",
    "id": "_H6T5bseg53P"
   },
   "source": []
  },
  {
   "cell_type": "code",
   "execution_count": 4,
   "metadata": {
    "colab": {
     "base_uri": "https://localhost:8080/",
     "height": 122
    },
    "colab_type": "code",
    "id": "rUTj-aGLr6fV",
    "outputId": "3a54c3d3-0979-44d0-b5b8-d60896cfdcc0"
   },
   "outputs": [
    {
     "name": "stdout",
     "output_type": "stream",
     "text": [
      "Go to this URL in a browser: https://accounts.google.com/o/oauth2/auth?client_id=947318989803-6bn6qk8qdgf4n4g3pfee6491hc0brc4i.apps.googleusercontent.com&redirect_uri=urn%3aietf%3awg%3aoauth%3a2.0%3aoob&response_type=code&scope=email%20https%3a%2f%2fwww.googleapis.com%2fauth%2fdocs.test%20https%3a%2f%2fwww.googleapis.com%2fauth%2fdrive%20https%3a%2f%2fwww.googleapis.com%2fauth%2fdrive.photos.readonly%20https%3a%2f%2fwww.googleapis.com%2fauth%2fpeopleapi.readonly\n",
      "\n",
      "Enter your authorization code:\n",
      "··········\n",
      "Mounted at /content/drive\n"
     ]
    }
   ],
   "source": [
    "from google.colab import drive\n",
    "drive.mount('/content/drive')"
   ]
  },
  {
   "cell_type": "markdown",
   "metadata": {
    "colab_type": "text",
    "id": "BgnoIhWUg9yP"
   },
   "source": [
    "# **Colab uses GPU**"
   ]
  },
  {
   "cell_type": "code",
   "execution_count": 1,
   "metadata": {
    "colab": {
     "base_uri": "https://localhost:8080/",
     "height": 80
    },
    "colab_type": "code",
    "id": "tSGnoUqusKwF",
    "outputId": "67fbedde-d004-49e3-a066-224f490e9eab"
   },
   "outputs": [
    {
     "data": {
      "text/html": [
       "<p style=\"color: red;\">\n",
       "The default version of TensorFlow in Colab will soon switch to TensorFlow 2.x.<br>\n",
       "We recommend you <a href=\"https://www.tensorflow.org/guide/migrate\" target=\"_blank\">upgrade</a> now \n",
       "or ensure your notebook will continue to use TensorFlow 1.x via the <code>%tensorflow_version 1.x</code> magic:\n",
       "<a href=\"https://colab.research.google.com/notebooks/tensorflow_version.ipynb\" target=\"_blank\">more info</a>.</p>\n"
      ],
      "text/plain": [
       "<IPython.core.display.HTML object>"
      ]
     },
     "metadata": {
      "tags": []
     },
     "output_type": "display_data"
    },
    {
     "data": {
      "text/plain": [
       "'/device:GPU:0'"
      ]
     },
     "execution_count": 1,
     "metadata": {
      "tags": []
     },
     "output_type": "execute_result"
    }
   ],
   "source": [
    "#' ' means CPU whereas '/device:G:0' means GPU\n",
    "import tensorflow as tf\n",
    "tf.test.gpu_device_name()"
   ]
  },
  {
   "cell_type": "markdown",
   "metadata": {
    "colab_type": "text",
    "id": "9i8pbGE0g178"
   },
   "source": [
    "# **Import Necessary Libraries**"
   ]
  },
  {
   "cell_type": "code",
   "execution_count": 2,
   "metadata": {
    "colab": {
     "base_uri": "https://localhost:8080/",
     "height": 51
    },
    "colab_type": "code",
    "id": "KJiI6Y5vsUBk",
    "outputId": "d170d525-b1e6-4d4c-9701-27335112e5fe"
   },
   "outputs": [
    {
     "name": "stdout",
     "output_type": "stream",
     "text": [
      "1.15.0\n"
     ]
    },
    {
     "name": "stderr",
     "output_type": "stream",
     "text": [
      "Using TensorFlow backend.\n"
     ]
    }
   ],
   "source": [
    "import os\n",
    "import time\n",
    "import zipfile\n",
    "import numpy as np\n",
    "import pandas as pd\n",
    "import seaborn as sns\n",
    "import tensorflow as tf\n",
    "from tensorflow import keras\n",
    "import matplotlib\n",
    "import matplotlib.pyplot as plt\n",
    "\n",
    "from keras_preprocessing.image import ImageDataGenerator,load_img\n",
    "from keras.models import Sequential,Model\n",
    "from keras.layers import Dense, Dropout, Flatten, Activation, BatchNormalization \n",
    "from keras.layers.convolutional import Conv2D\n",
    "from keras.layers.convolutional import MaxPooling2D\n",
    "from keras.optimizers import RMSprop\n",
    "from keras.applications import VGG19, ResNet50, InceptionV3,VGG16\n",
    "\n",
    "print(tf.__version__)\n"
   ]
  },
  {
   "cell_type": "markdown",
   "metadata": {
    "colab_type": "text",
    "id": "6My7LyNKhAzQ"
   },
   "source": [
    "# **Unzip the Dataset**"
   ]
  },
  {
   "cell_type": "code",
   "execution_count": 0,
   "metadata": {
    "colab": {},
    "colab_type": "code",
    "id": "nCc77104rfqz"
   },
   "outputs": [],
   "source": [
    "zip_ref = zipfile.ZipFile('drive/My Drive/Datasets/Flowers.zip', 'r')\n",
    "zip_ref.extractall('Flower') # unzip directory\n",
    "zip_ref.close()"
   ]
  },
  {
   "cell_type": "markdown",
   "metadata": {
    "colab_type": "text",
    "id": "F7m0kwsjhFnL"
   },
   "source": [
    "# **Load Data and Create Data Frame**"
   ]
  },
  {
   "cell_type": "code",
   "execution_count": 6,
   "metadata": {
    "colab": {
     "base_uri": "https://localhost:8080/",
     "height": 419
    },
    "colab_type": "code",
    "id": "UFnDGT9EslnV",
    "outputId": "beed293e-1463-4367-a5e8-0443a28c9e06"
   },
   "outputs": [
    {
     "data": {
      "text/html": [
       "<div>\n",
       "<style scoped>\n",
       "    .dataframe tbody tr th:only-of-type {\n",
       "        vertical-align: middle;\n",
       "    }\n",
       "\n",
       "    .dataframe tbody tr th {\n",
       "        vertical-align: top;\n",
       "    }\n",
       "\n",
       "    .dataframe thead th {\n",
       "        text-align: right;\n",
       "    }\n",
       "</style>\n",
       "<table border=\"1\" class=\"dataframe\">\n",
       "  <thead>\n",
       "    <tr style=\"text-align: right;\">\n",
       "      <th></th>\n",
       "      <th>Images</th>\n",
       "      <th>Class</th>\n",
       "    </tr>\n",
       "  </thead>\n",
       "  <tbody>\n",
       "    <tr>\n",
       "      <th>0</th>\n",
       "      <td>JFT_00001.jpg</td>\n",
       "      <td>1</td>\n",
       "    </tr>\n",
       "    <tr>\n",
       "      <th>1</th>\n",
       "      <td>JFT_00002.jpg</td>\n",
       "      <td>1</td>\n",
       "    </tr>\n",
       "    <tr>\n",
       "      <th>2</th>\n",
       "      <td>JFT_00003.jpg</td>\n",
       "      <td>1</td>\n",
       "    </tr>\n",
       "    <tr>\n",
       "      <th>3</th>\n",
       "      <td>JFT_00004.jpg</td>\n",
       "      <td>1</td>\n",
       "    </tr>\n",
       "    <tr>\n",
       "      <th>4</th>\n",
       "      <td>JFT_00006.jpg</td>\n",
       "      <td>1</td>\n",
       "    </tr>\n",
       "    <tr>\n",
       "      <th>...</th>\n",
       "      <td>...</td>\n",
       "      <td>...</td>\n",
       "    </tr>\n",
       "    <tr>\n",
       "      <th>1474</th>\n",
       "      <td>JFT_01467.jpg</td>\n",
       "      <td>29</td>\n",
       "    </tr>\n",
       "    <tr>\n",
       "      <th>1475</th>\n",
       "      <td>JFT_01470.jpg</td>\n",
       "      <td>30</td>\n",
       "    </tr>\n",
       "    <tr>\n",
       "      <th>1476</th>\n",
       "      <td>JFT_01472.jpg</td>\n",
       "      <td>30</td>\n",
       "    </tr>\n",
       "    <tr>\n",
       "      <th>1477</th>\n",
       "      <td>JFT_01476.jpg</td>\n",
       "      <td>30</td>\n",
       "    </tr>\n",
       "    <tr>\n",
       "      <th>1478</th>\n",
       "      <td>JFT_01477.jpg</td>\n",
       "      <td>30</td>\n",
       "    </tr>\n",
       "  </tbody>\n",
       "</table>\n",
       "<p>1479 rows × 2 columns</p>\n",
       "</div>"
      ],
      "text/plain": [
       "             Images  Class\n",
       "0     JFT_00001.jpg      1\n",
       "1     JFT_00002.jpg      1\n",
       "2     JFT_00003.jpg      1\n",
       "3     JFT_00004.jpg      1\n",
       "4     JFT_00006.jpg      1\n",
       "...             ...    ...\n",
       "1474  JFT_01467.jpg     29\n",
       "1475  JFT_01470.jpg     30\n",
       "1476  JFT_01472.jpg     30\n",
       "1477  JFT_01476.jpg     30\n",
       "1478  JFT_01477.jpg     30\n",
       "\n",
       "[1479 rows x 2 columns]"
      ]
     },
     "execution_count": 6,
     "metadata": {
      "tags": []
     },
     "output_type": "execute_result"
    }
   ],
   "source": [
    "flower_class = pd.read_csv('Flower/classlabels.txt', header = None, names=['Images','Class'])\n",
    "flower_class"
   ]
  },
  {
   "cell_type": "code",
   "execution_count": 7,
   "metadata": {
    "colab": {
     "base_uri": "https://localhost:8080/",
     "height": 419
    },
    "colab_type": "code",
    "id": "7WShZv6Ps7sj",
    "outputId": "4fcc2152-dce5-4b36-c6b6-c43af96b5afe"
   },
   "outputs": [
    {
     "data": {
      "text/html": [
       "<div>\n",
       "<style scoped>\n",
       "    .dataframe tbody tr th:only-of-type {\n",
       "        vertical-align: middle;\n",
       "    }\n",
       "\n",
       "    .dataframe tbody tr th {\n",
       "        vertical-align: top;\n",
       "    }\n",
       "\n",
       "    .dataframe thead th {\n",
       "        text-align: right;\n",
       "    }\n",
       "</style>\n",
       "<table border=\"1\" class=\"dataframe\">\n",
       "  <thead>\n",
       "    <tr style=\"text-align: right;\">\n",
       "      <th></th>\n",
       "      <th>Images</th>\n",
       "      <th>Class</th>\n",
       "      <th>N_Images</th>\n",
       "    </tr>\n",
       "  </thead>\n",
       "  <tbody>\n",
       "    <tr>\n",
       "      <th>0</th>\n",
       "      <td>JFT_00001.jpg</td>\n",
       "      <td>1</td>\n",
       "      <td>1</td>\n",
       "    </tr>\n",
       "    <tr>\n",
       "      <th>1</th>\n",
       "      <td>JFT_00002.jpg</td>\n",
       "      <td>1</td>\n",
       "      <td>2</td>\n",
       "    </tr>\n",
       "    <tr>\n",
       "      <th>2</th>\n",
       "      <td>JFT_00003.jpg</td>\n",
       "      <td>1</td>\n",
       "      <td>3</td>\n",
       "    </tr>\n",
       "    <tr>\n",
       "      <th>3</th>\n",
       "      <td>JFT_00004.jpg</td>\n",
       "      <td>1</td>\n",
       "      <td>4</td>\n",
       "    </tr>\n",
       "    <tr>\n",
       "      <th>4</th>\n",
       "      <td>JFT_00006.jpg</td>\n",
       "      <td>1</td>\n",
       "      <td>6</td>\n",
       "    </tr>\n",
       "    <tr>\n",
       "      <th>...</th>\n",
       "      <td>...</td>\n",
       "      <td>...</td>\n",
       "      <td>...</td>\n",
       "    </tr>\n",
       "    <tr>\n",
       "      <th>1474</th>\n",
       "      <td>JFT_01467.jpg</td>\n",
       "      <td>29</td>\n",
       "      <td>1467</td>\n",
       "    </tr>\n",
       "    <tr>\n",
       "      <th>1475</th>\n",
       "      <td>JFT_01470.jpg</td>\n",
       "      <td>30</td>\n",
       "      <td>1470</td>\n",
       "    </tr>\n",
       "    <tr>\n",
       "      <th>1476</th>\n",
       "      <td>JFT_01472.jpg</td>\n",
       "      <td>30</td>\n",
       "      <td>1472</td>\n",
       "    </tr>\n",
       "    <tr>\n",
       "      <th>1477</th>\n",
       "      <td>JFT_01476.jpg</td>\n",
       "      <td>30</td>\n",
       "      <td>1476</td>\n",
       "    </tr>\n",
       "    <tr>\n",
       "      <th>1478</th>\n",
       "      <td>JFT_01477.jpg</td>\n",
       "      <td>30</td>\n",
       "      <td>1477</td>\n",
       "    </tr>\n",
       "  </tbody>\n",
       "</table>\n",
       "<p>1479 rows × 3 columns</p>\n",
       "</div>"
      ],
      "text/plain": [
       "             Images  Class N_Images\n",
       "0     JFT_00001.jpg      1        1\n",
       "1     JFT_00002.jpg      1        2\n",
       "2     JFT_00003.jpg      1        3\n",
       "3     JFT_00004.jpg      1        4\n",
       "4     JFT_00006.jpg      1        6\n",
       "...             ...    ...      ...\n",
       "1474  JFT_01467.jpg     29     1467\n",
       "1475  JFT_01470.jpg     30     1470\n",
       "1476  JFT_01472.jpg     30     1472\n",
       "1477  JFT_01476.jpg     30     1476\n",
       "1478  JFT_01477.jpg     30     1477\n",
       "\n",
       "[1479 rows x 3 columns]"
      ]
     },
     "execution_count": 7,
     "metadata": {
      "tags": []
     },
     "output_type": "execute_result"
    }
   ],
   "source": [
    "flower_class['N_Images']= flower_class['Images'].str.strip('JFT_0000').str.strip('.jpg')\n",
    "flower_class"
   ]
  },
  {
   "cell_type": "markdown",
   "metadata": {
    "colab_type": "text",
    "id": "wyAe_ErRtBuv"
   },
   "source": [
    "# **Calculate the Baseline**"
   ]
  },
  {
   "cell_type": "code",
   "execution_count": 8,
   "metadata": {
    "colab": {
     "base_uri": "https://localhost:8080/",
     "height": 544
    },
    "colab_type": "code",
    "id": "_ZU8UnFDs-8o",
    "outputId": "68e02e6d-06a8-42e4-9469-eb391826af3a"
   },
   "outputs": [
    {
     "data": {
      "text/plain": [
       "6     4.732928\n",
       "28    4.597701\n",
       "23    4.530088\n",
       "13    4.462475\n",
       "4     4.462475\n",
       "2     4.394861\n",
       "7     4.327248\n",
       "18    4.259635\n",
       "29    4.259635\n",
       "20    4.124408\n",
       "27    4.124408\n",
       "24    4.056795\n",
       "10    4.056795\n",
       "25    3.786342\n",
       "19    3.718729\n",
       "14    3.651116\n",
       "5     3.651116\n",
       "22    3.313049\n",
       "12    3.245436\n",
       "9     3.110210\n",
       "17    3.042596\n",
       "3     2.772143\n",
       "21    2.569304\n",
       "11    2.434077\n",
       "26    2.366464\n",
       "8     1.893171\n",
       "16    1.622718\n",
       "15    0.878972\n",
       "30    0.811359\n",
       "1     0.743746\n",
       "Name: Class, dtype: float64"
      ]
     },
     "execution_count": 8,
     "metadata": {
      "tags": []
     },
     "output_type": "execute_result"
    }
   ],
   "source": [
    "base_line = 100*flower_class['Class'].value_counts()/len(flower_class)\n",
    "base_line"
   ]
  },
  {
   "cell_type": "code",
   "execution_count": 9,
   "metadata": {
    "colab": {
     "base_uri": "https://localhost:8080/",
     "height": 513
    },
    "colab_type": "code",
    "id": "UvkOi5gAtL4h",
    "outputId": "f6794c3d-3e76-4d31-fe14-58bbe15df5b4"
   },
   "outputs": [
    {
     "data": {
      "image/png": "[encoded data removed]",
      "text/plain": [
       "<Figure size 1080x576 with 1 Axes>"
      ]
     },
     "metadata": {
      "tags": []
     },
     "output_type": "display_data"
    }
   ],
   "source": [
    "plt.figure(figsize=(15, 8))\n",
    "sns.countplot(x='Class',data=flower_class)\n",
    "plt.title(\"Samples per Class\")\n",
    "plt.show()"
   ]
  },
  {
   "cell_type": "code",
   "execution_count": 10,
   "metadata": {
    "colab": {
     "base_uri": "https://localhost:8080/",
     "height": 419
    },
    "colab_type": "code",
    "id": "kWYCVUnHtOgB",
    "outputId": "c8d89a62-61c9-4322-e04f-622199f90980"
   },
   "outputs": [
    {
     "data": {
      "text/html": [
       "<div>\n",
       "<style scoped>\n",
       "    .dataframe tbody tr th:only-of-type {\n",
       "        vertical-align: middle;\n",
       "    }\n",
       "\n",
       "    .dataframe tbody tr th {\n",
       "        vertical-align: top;\n",
       "    }\n",
       "\n",
       "    .dataframe thead th {\n",
       "        text-align: right;\n",
       "    }\n",
       "</style>\n",
       "<table border=\"1\" class=\"dataframe\">\n",
       "  <thead>\n",
       "    <tr style=\"text-align: right;\">\n",
       "      <th></th>\n",
       "      <th>Images</th>\n",
       "      <th>Class</th>\n",
       "      <th>N_Images</th>\n",
       "    </tr>\n",
       "  </thead>\n",
       "  <tbody>\n",
       "    <tr>\n",
       "      <th>0</th>\n",
       "      <td>JFT_00005.jpg</td>\n",
       "      <td>1</td>\n",
       "      <td>5</td>\n",
       "    </tr>\n",
       "    <tr>\n",
       "      <th>1</th>\n",
       "      <td>JFT_00007.jpg</td>\n",
       "      <td>1</td>\n",
       "      <td>7</td>\n",
       "    </tr>\n",
       "    <tr>\n",
       "      <th>2</th>\n",
       "      <td>JFT_00011.jpg</td>\n",
       "      <td>1</td>\n",
       "      <td>11</td>\n",
       "    </tr>\n",
       "    <tr>\n",
       "      <th>3</th>\n",
       "      <td>JFT_00012.jpg</td>\n",
       "      <td>2</td>\n",
       "      <td>12</td>\n",
       "    </tr>\n",
       "    <tr>\n",
       "      <th>4</th>\n",
       "      <td>JFT_00013.jpg</td>\n",
       "      <td>2</td>\n",
       "      <td>13</td>\n",
       "    </tr>\n",
       "    <tr>\n",
       "      <th>...</th>\n",
       "      <td>...</td>\n",
       "      <td>...</td>\n",
       "      <td>...</td>\n",
       "    </tr>\n",
       "    <tr>\n",
       "      <th>916</th>\n",
       "      <td>JFT_01467.jpg</td>\n",
       "      <td>29</td>\n",
       "      <td>1467</td>\n",
       "    </tr>\n",
       "    <tr>\n",
       "      <th>917</th>\n",
       "      <td>JFT_01470.jpg</td>\n",
       "      <td>30</td>\n",
       "      <td>1470</td>\n",
       "    </tr>\n",
       "    <tr>\n",
       "      <th>918</th>\n",
       "      <td>JFT_01472.jpg</td>\n",
       "      <td>30</td>\n",
       "      <td>1472</td>\n",
       "    </tr>\n",
       "    <tr>\n",
       "      <th>919</th>\n",
       "      <td>JFT_01476.jpg</td>\n",
       "      <td>30</td>\n",
       "      <td>1476</td>\n",
       "    </tr>\n",
       "    <tr>\n",
       "      <th>920</th>\n",
       "      <td>JFT_01477.jpg</td>\n",
       "      <td>30</td>\n",
       "      <td>1477</td>\n",
       "    </tr>\n",
       "  </tbody>\n",
       "</table>\n",
       "<p>921 rows × 3 columns</p>\n",
       "</div>"
      ],
      "text/plain": [
       "            Images Class N_Images\n",
       "0    JFT_00005.jpg     1        5\n",
       "1    JFT_00007.jpg     1        7\n",
       "2    JFT_00011.jpg     1       11\n",
       "3    JFT_00012.jpg     2       12\n",
       "4    JFT_00013.jpg     2       13\n",
       "..             ...   ...      ...\n",
       "916  JFT_01467.jpg    29     1467\n",
       "917  JFT_01470.jpg    30     1470\n",
       "918  JFT_01472.jpg    30     1472\n",
       "919  JFT_01476.jpg    30     1476\n",
       "920  JFT_01477.jpg    30     1477\n",
       "\n",
       "[921 rows x 3 columns]"
      ]
     },
     "execution_count": 10,
     "metadata": {
      "tags": []
     },
     "output_type": "execute_result"
    }
   ],
   "source": [
    "train1 = pd.read_csv('Flower/tst1.txt',header= None,names=['N_Images'])\n",
    "train1['N_Images'] = train1['N_Images'].apply(str)\n",
    "train1df = flower_class.merge(train1, on= 'N_Images')\n",
    "train1df['Class'] = train1df['Class'].apply(str)\n",
    "train1df"
   ]
  },
  {
   "cell_type": "code",
   "execution_count": 11,
   "metadata": {
    "colab": {
     "base_uri": "https://localhost:8080/",
     "height": 419
    },
    "colab_type": "code",
    "id": "JsmIaIFWtS33",
    "outputId": "1aedc372-1741-4d98-a972-abd10f63f81d"
   },
   "outputs": [
    {
     "data": {
      "text/html": [
       "<div>\n",
       "<style scoped>\n",
       "    .dataframe tbody tr th:only-of-type {\n",
       "        vertical-align: middle;\n",
       "    }\n",
       "\n",
       "    .dataframe tbody tr th {\n",
       "        vertical-align: top;\n",
       "    }\n",
       "\n",
       "    .dataframe thead th {\n",
       "        text-align: right;\n",
       "    }\n",
       "</style>\n",
       "<table border=\"1\" class=\"dataframe\">\n",
       "  <thead>\n",
       "    <tr style=\"text-align: right;\">\n",
       "      <th></th>\n",
       "      <th>Images</th>\n",
       "      <th>Class</th>\n",
       "      <th>N_Images</th>\n",
       "    </tr>\n",
       "  </thead>\n",
       "  <tbody>\n",
       "    <tr>\n",
       "      <th>0</th>\n",
       "      <td>JFT_00001.jpg</td>\n",
       "      <td>1</td>\n",
       "      <td>1</td>\n",
       "    </tr>\n",
       "    <tr>\n",
       "      <th>1</th>\n",
       "      <td>JFT_00003.jpg</td>\n",
       "      <td>1</td>\n",
       "      <td>3</td>\n",
       "    </tr>\n",
       "    <tr>\n",
       "      <th>2</th>\n",
       "      <td>JFT_00006.jpg</td>\n",
       "      <td>1</td>\n",
       "      <td>6</td>\n",
       "    </tr>\n",
       "    <tr>\n",
       "      <th>3</th>\n",
       "      <td>JFT_00008.jpg</td>\n",
       "      <td>1</td>\n",
       "      <td>8</td>\n",
       "    </tr>\n",
       "    <tr>\n",
       "      <th>4</th>\n",
       "      <td>JFT_00018.jpg</td>\n",
       "      <td>2</td>\n",
       "      <td>18</td>\n",
       "    </tr>\n",
       "    <tr>\n",
       "      <th>...</th>\n",
       "      <td>...</td>\n",
       "      <td>...</td>\n",
       "      <td>...</td>\n",
       "    </tr>\n",
       "    <tr>\n",
       "      <th>274</th>\n",
       "      <td>JFT_01462.jpg</td>\n",
       "      <td>29</td>\n",
       "      <td>1462</td>\n",
       "    </tr>\n",
       "    <tr>\n",
       "      <th>275</th>\n",
       "      <td>JFT_01469.jpg</td>\n",
       "      <td>30</td>\n",
       "      <td>1469</td>\n",
       "    </tr>\n",
       "    <tr>\n",
       "      <th>276</th>\n",
       "      <td>JFT_01471.jpg</td>\n",
       "      <td>30</td>\n",
       "      <td>1471</td>\n",
       "    </tr>\n",
       "    <tr>\n",
       "      <th>277</th>\n",
       "      <td>JFT_01474.jpg</td>\n",
       "      <td>30</td>\n",
       "      <td>1474</td>\n",
       "    </tr>\n",
       "    <tr>\n",
       "      <th>278</th>\n",
       "      <td>JFT_01479.jpg</td>\n",
       "      <td>30</td>\n",
       "      <td>1479</td>\n",
       "    </tr>\n",
       "  </tbody>\n",
       "</table>\n",
       "<p>279 rows × 3 columns</p>\n",
       "</div>"
      ],
      "text/plain": [
       "            Images Class N_Images\n",
       "0    JFT_00001.jpg     1        1\n",
       "1    JFT_00003.jpg     1        3\n",
       "2    JFT_00006.jpg     1        6\n",
       "3    JFT_00008.jpg     1        8\n",
       "4    JFT_00018.jpg     2       18\n",
       "..             ...   ...      ...\n",
       "274  JFT_01462.jpg    29     1462\n",
       "275  JFT_01469.jpg    30     1469\n",
       "276  JFT_01471.jpg    30     1471\n",
       "277  JFT_01474.jpg    30     1474\n",
       "278  JFT_01479.jpg    30     1479\n",
       "\n",
       "[279 rows x 3 columns]"
      ]
     },
     "execution_count": 11,
     "metadata": {
      "tags": []
     },
     "output_type": "execute_result"
    }
   ],
   "source": [
    "val1 = pd.read_csv('Flower/val1.txt',sep = ' ',header= None,names=['N_Images'])\n",
    "val1['N_Images'] = val1['N_Images'].apply(str)\n",
    "val1df = flower_class.merge(val1, on= 'N_Images')\n",
    "val1df['Class'] = val1df['Class'].apply(str)\n",
    "val1df"
   ]
  },
  {
   "cell_type": "code",
   "execution_count": 12,
   "metadata": {
    "colab": {
     "base_uri": "https://localhost:8080/",
     "height": 419
    },
    "colab_type": "code",
    "id": "KM6Qz14MtV7c",
    "outputId": "1b1f5454-ab90-45d2-e910-5f02c564a6d2"
   },
   "outputs": [
    {
     "data": {
      "text/html": [
       "<div>\n",
       "<style scoped>\n",
       "    .dataframe tbody tr th:only-of-type {\n",
       "        vertical-align: middle;\n",
       "    }\n",
       "\n",
       "    .dataframe tbody tr th {\n",
       "        vertical-align: top;\n",
       "    }\n",
       "\n",
       "    .dataframe thead th {\n",
       "        text-align: right;\n",
       "    }\n",
       "</style>\n",
       "<table border=\"1\" class=\"dataframe\">\n",
       "  <thead>\n",
       "    <tr style=\"text-align: right;\">\n",
       "      <th></th>\n",
       "      <th>Images</th>\n",
       "      <th>Class</th>\n",
       "      <th>N_Images</th>\n",
       "    </tr>\n",
       "  </thead>\n",
       "  <tbody>\n",
       "    <tr>\n",
       "      <th>0</th>\n",
       "      <td>JFT_00002.jpg</td>\n",
       "      <td>1</td>\n",
       "      <td>2</td>\n",
       "    </tr>\n",
       "    <tr>\n",
       "      <th>1</th>\n",
       "      <td>JFT_00004.jpg</td>\n",
       "      <td>1</td>\n",
       "      <td>4</td>\n",
       "    </tr>\n",
       "    <tr>\n",
       "      <th>2</th>\n",
       "      <td>JFT_00009.jpg</td>\n",
       "      <td>1</td>\n",
       "      <td>9</td>\n",
       "    </tr>\n",
       "    <tr>\n",
       "      <th>3</th>\n",
       "      <td>JFT_00010.jpg</td>\n",
       "      <td>1</td>\n",
       "      <td>10</td>\n",
       "    </tr>\n",
       "    <tr>\n",
       "      <th>4</th>\n",
       "      <td>JFT_00021.jpg</td>\n",
       "      <td>2</td>\n",
       "      <td>21</td>\n",
       "    </tr>\n",
       "    <tr>\n",
       "      <th>...</th>\n",
       "      <td>...</td>\n",
       "      <td>...</td>\n",
       "      <td>...</td>\n",
       "    </tr>\n",
       "    <tr>\n",
       "      <th>274</th>\n",
       "      <td>JFT_01466.jpg</td>\n",
       "      <td>29</td>\n",
       "      <td>1466</td>\n",
       "    </tr>\n",
       "    <tr>\n",
       "      <th>275</th>\n",
       "      <td>JFT_01468.jpg</td>\n",
       "      <td>30</td>\n",
       "      <td>1468</td>\n",
       "    </tr>\n",
       "    <tr>\n",
       "      <th>276</th>\n",
       "      <td>JFT_01473.jpg</td>\n",
       "      <td>30</td>\n",
       "      <td>1473</td>\n",
       "    </tr>\n",
       "    <tr>\n",
       "      <th>277</th>\n",
       "      <td>JFT_01475.jpg</td>\n",
       "      <td>30</td>\n",
       "      <td>1475</td>\n",
       "    </tr>\n",
       "    <tr>\n",
       "      <th>278</th>\n",
       "      <td>JFT_01478.jpg</td>\n",
       "      <td>30</td>\n",
       "      <td>1478</td>\n",
       "    </tr>\n",
       "  </tbody>\n",
       "</table>\n",
       "<p>279 rows × 3 columns</p>\n",
       "</div>"
      ],
      "text/plain": [
       "            Images Class N_Images\n",
       "0    JFT_00002.jpg     1        2\n",
       "1    JFT_00004.jpg     1        4\n",
       "2    JFT_00009.jpg     1        9\n",
       "3    JFT_00010.jpg     1       10\n",
       "4    JFT_00021.jpg     2       21\n",
       "..             ...   ...      ...\n",
       "274  JFT_01466.jpg    29     1466\n",
       "275  JFT_01468.jpg    30     1468\n",
       "276  JFT_01473.jpg    30     1473\n",
       "277  JFT_01475.jpg    30     1475\n",
       "278  JFT_01478.jpg    30     1478\n",
       "\n",
       "[279 rows x 3 columns]"
      ]
     },
     "execution_count": 12,
     "metadata": {
      "tags": []
     },
     "output_type": "execute_result"
    }
   ],
   "source": [
    "test1 = pd.read_csv('Flower/trn1.txt',sep = ' ',header= None,names=['N_Images'])\n",
    "test1['N_Images'] = test1['N_Images'].apply(str)\n",
    "test1df = flower_class.merge(test1, on= 'N_Images')\n",
    "test1df['Class'] = test1df['Class'].apply(str)\n",
    "test1df"
   ]
  },
  {
   "cell_type": "code",
   "execution_count": 13,
   "metadata": {
    "colab": {
     "base_uri": "https://localhost:8080/",
     "height": 85
    },
    "colab_type": "code",
    "id": "PEKY5mkHtZYD",
    "outputId": "2e9435b0-4468-49df-8692-2c6d4e67ffef"
   },
   "outputs": [
    {
     "name": "stdout",
     "output_type": "stream",
     "text": [
      "Total Number of Images 1479\n",
      "Number of Training Images 921\n",
      "Number of Validation Images 279\n",
      "Number of Training Images 279\n"
     ]
    }
   ],
   "source": [
    "print(\"Total Number of Images\",flower_class.shape[0])\n",
    "print(\"Number of Training Images\", train1df.shape[0])\n",
    "print(\"Number of Validation Images\", val1df.shape[0])\n",
    "print(\"Number of Training Images\", test1df.shape[0])"
   ]
  },
  {
   "cell_type": "markdown",
   "metadata": {
    "colab_type": "text",
    "id": "S2af2u00ti_n"
   },
   "source": [
    "# **Data Augmentation**"
   ]
  },
  {
   "cell_type": "code",
   "execution_count": 14,
   "metadata": {
    "colab": {
     "base_uri": "https://localhost:8080/",
     "height": 119
    },
    "colab_type": "code",
    "id": "CaGfV2edteuc",
    "outputId": "9eaa584a-895a-4da9-8fbf-b02ef7db8348"
   },
   "outputs": [
    {
     "name": "stdout",
     "output_type": "stream",
     "text": [
      "Found 921 validated image filenames belonging to 30 classes.\n",
      "Train generator created\n",
      "Found 279 validated image filenames belonging to 30 classes.\n",
      "Validation generator created\n",
      "Found 279 validated image filenames.\n",
      "Test generator created\n"
     ]
    }
   ],
   "source": [
    "datagen=ImageDataGenerator(rescale=1./255.,\n",
    "                           featurewise_center=False,\n",
    "                           featurewise_std_normalization=False,\n",
    "                           rotation_range=90,\n",
    "                           width_shift_range=0.2,\n",
    "                           height_shift_range=0.2,\n",
    "                           horizontal_flip=True,\n",
    "                           vertical_flip=True)\n",
    "\n",
    "train1_generator=datagen.flow_from_dataframe(\n",
    "dataframe=train1df,\n",
    "directory=\"Flower/jpg/\",\n",
    "x_col=\"Images\",\n",
    "y_col=\"Class\",\n",
    "subset=\"training\",\n",
    "batch_size=128,\n",
    "seed=42,\n",
    "shuffle=True,\n",
    "class_mode=\"categorical\",\n",
    "color_mode=\"rgb\",\n",
    "#target_size=(256,256))\n",
    "target_size=(128,128))\n",
    "print('Train generator created')\n",
    "\n",
    "\n",
    "val1_generator=datagen.flow_from_dataframe(\n",
    "dataframe=val1df,\n",
    "directory=\"Flower/jpg/\",\n",
    "x_col=\"Images\",\n",
    "y_col=\"Class\",\n",
    "subset=\"training\",\n",
    "batch_size=128,\n",
    "seed=42,\n",
    "shuffle=True,\n",
    "class_mode=\"categorical\",\n",
    "#target_size=(256,256))\n",
    "target_size=(128,128))\n",
    "print('Validation generator created')\n",
    "\n",
    "test1_generator=datagen.flow_from_dataframe(\n",
    "dataframe=test1df,\n",
    "directory=\"Flower/jpg/\",\n",
    "x_col=\"Images\",\n",
    "y_col=\"Class\",\n",
    "subset=\"training\",\n",
    "#batch_size=128,\n",
    "batch_size= 1,\n",
    "color_mode=\"rgb\",\n",
    "seed=42,\n",
    "shuffle=False,\n",
    "#class_mode=\"sparse\",\n",
    "class_mode = None,\n",
    "#target_size=(256,256))\n",
    "target_size=(128,128))\n",
    "print('Test generator created')"
   ]
  },
  {
   "cell_type": "code",
   "execution_count": 15,
   "metadata": {
    "colab": {
     "base_uri": "https://localhost:8080/",
     "height": 268
    },
    "colab_type": "code",
    "id": "4jLCtQM3tl31",
    "outputId": "9ab76303-e09f-424f-a19d-a3d80013f0a7"
   },
   "outputs": [
    {
     "data": {
      "image/png": "[encoded data removed]",
      "text/plain": [
       "<Figure size 432x288 with 1 Axes>"
      ]
     },
     "metadata": {
      "tags": []
     },
     "output_type": "display_data"
    }
   ],
   "source": [
    "image, label = next(iter(train1_generator))\n",
    "plt.imshow(image[0,:]);"
   ]
  },
  {
   "cell_type": "code",
   "execution_count": 0,
   "metadata": {
    "colab": {},
    "colab_type": "code",
    "id": "SGFUJANWJ5Jv"
   },
   "outputs": [],
   "source": []
  },
  {
   "cell_type": "markdown",
   "metadata": {
    "colab_type": "text",
    "id": "JvXIJYRlt8Of"
   },
   "source": [
    "# **Build the Model**"
   ]
  },
  {
   "cell_type": "markdown",
   "metadata": {
    "colab_type": "text",
    "id": "DI7fcQfCJ0Sq"
   },
   "source": [
    "**VGG16** for fine tuning"
   ]
  },
  {
   "cell_type": "code",
   "execution_count": 0,
   "metadata": {
    "colab": {},
    "colab_type": "code",
    "id": "kwW7utAUw_VQ"
   },
   "outputs": [],
   "source": [
    "vgg_conv = VGG16(weights='imagenet', include_top=False, input_shape=(128,128, 3))"
   ]
  },
  {
   "cell_type": "code",
   "execution_count": 20,
   "metadata": {
    "colab": {
     "base_uri": "https://localhost:8080/",
     "height": 340
    },
    "colab_type": "code",
    "id": "LBKi9AuBxV1M",
    "outputId": "8d37f6aa-9fb6-455d-e716-d5b4923268dc"
   },
   "outputs": [
    {
     "name": "stdout",
     "output_type": "stream",
     "text": [
      "<keras.engine.input_layer.InputLayer object at 0x7f52fd51cf98> False\n",
      "<keras.layers.convolutional.Conv2D object at 0x7f52fd51c0f0> False\n",
      "<keras.layers.convolutional.Conv2D object at 0x7f52fd51c438> False\n",
      "<keras.layers.pooling.MaxPooling2D object at 0x7f52fb0aa128> False\n",
      "<keras.layers.convolutional.Conv2D object at 0x7f52fb0acc50> False\n",
      "<keras.layers.convolutional.Conv2D object at 0x7f52fb0b3b70> False\n",
      "<keras.layers.pooling.MaxPooling2D object at 0x7f52fb0b8710> False\n",
      "<keras.layers.convolutional.Conv2D object at 0x7f52fa844940> False\n",
      "<keras.layers.convolutional.Conv2D object at 0x7f52fa844f98> False\n",
      "<keras.layers.convolutional.Conv2D object at 0x7f52fa8504e0> False\n",
      "<keras.layers.pooling.MaxPooling2D object at 0x7f52fa8575f8> False\n",
      "<keras.layers.convolutional.Conv2D object at 0x7f52fa864160> False\n",
      "<keras.layers.convolutional.Conv2D object at 0x7f52fa864e48> False\n",
      "<keras.layers.convolutional.Conv2D object at 0x7f52fa86beb8> False\n",
      "<keras.layers.pooling.MaxPooling2D object at 0x7f52fa876518> False\n",
      "<keras.layers.convolutional.Conv2D object at 0x7f52fa7fef28> True\n",
      "<keras.layers.convolutional.Conv2D object at 0x7f52fa804f28> True\n",
      "<keras.layers.convolutional.Conv2D object at 0x7f52fa80be80> True\n",
      "<keras.layers.pooling.MaxPooling2D object at 0x7f52fa816400> True\n"
     ]
    }
   ],
   "source": [
    "\n",
    "for layer in vgg_conv.layers[:-4]:\n",
    "  layer.trainable = False\n",
    "\n",
    "# Check the trainable status of the individual layers\n",
    "\n",
    "for layer in vgg_conv.layers:\n",
    "    print(layer, layer.trainable)\n"
   ]
  },
  {
   "cell_type": "code",
   "execution_count": 21,
   "metadata": {
    "colab": {
     "base_uri": "https://localhost:8080/",
     "height": 428
    },
    "colab_type": "code",
    "id": "okKoUvobx1f2",
    "outputId": "7594d0b9-3bba-498d-8f13-fcce319f581a"
   },
   "outputs": [
    {
     "name": "stdout",
     "output_type": "stream",
     "text": [
      "WARNING:tensorflow:From /usr/local/lib/python3.6/dist-packages/keras/backend/tensorflow_backend.py:148: The name tf.placeholder_with_default is deprecated. Please use tf.compat.v1.placeholder_with_default instead.\n",
      "\n",
      "WARNING:tensorflow:From /usr/local/lib/python3.6/dist-packages/keras/backend/tensorflow_backend.py:3733: calling dropout (from tensorflow.python.ops.nn_ops) with keep_prob is deprecated and will be removed in a future version.\n",
      "Instructions for updating:\n",
      "Please use `rate` instead of `keep_prob`. Rate should be set to `rate = 1 - keep_prob`.\n",
      "Model: \"sequential_1\"\n",
      "_________________________________________________________________\n",
      "Layer (type)                 Output Shape              Param #   \n",
      "=================================================================\n",
      "vgg16 (Model)                (None, 4, 4, 512)         14714688  \n",
      "_________________________________________________________________\n",
      "flatten_1 (Flatten)          (None, 8192)              0         \n",
      "_________________________________________________________________\n",
      "dense_1 (Dense)              (None, 1024)              8389632   \n",
      "_________________________________________________________________\n",
      "dropout_1 (Dropout)          (None, 1024)              0         \n",
      "_________________________________________________________________\n",
      "dense_2 (Dense)              (None, 30)                30750     \n",
      "=================================================================\n",
      "Total params: 23,135,070\n",
      "Trainable params: 15,499,806\n",
      "Non-trainable params: 7,635,264\n",
      "_________________________________________________________________\n"
     ]
    }
   ],
   "source": [
    "from keras import models\n",
    "from keras import layers\n",
    "from keras import optimizers\n",
    "\n",
    "# Create the model\n",
    "model = models.Sequential()\n",
    "\n",
    "# Add the vgg convolutional base model\n",
    "model.add(vgg_conv)\n",
    " \n",
    "# Add new layers\n",
    "model.add(layers.Flatten())\n",
    "model.add(layers.Dense(1024, activation='relu'))\n",
    "model.add(layers.Dropout(0.5))\n",
    "model.add(layers.Dense(30, activation='softmax'))\n",
    "\n",
    "# Show a summary of the model. Check the number of trainable parameters\n",
    "model.summary()\n"
   ]
  },
  {
   "cell_type": "markdown",
   "metadata": {
    "colab_type": "text",
    "id": "5n_3_snNvXsZ"
   },
   "source": [
    "# **Compile the model**"
   ]
  },
  {
   "cell_type": "code",
   "execution_count": 22,
   "metadata": {
    "colab": {
     "base_uri": "https://localhost:8080/",
     "height": 105
    },
    "colab_type": "code",
    "id": "im9NdYR7yvyR",
    "outputId": "d3d06785-239e-42ff-ce7d-2af6a32a0b0f"
   },
   "outputs": [
    {
     "name": "stdout",
     "output_type": "stream",
     "text": [
      "WARNING:tensorflow:From /usr/local/lib/python3.6/dist-packages/keras/optimizers.py:793: The name tf.train.Optimizer is deprecated. Please use tf.compat.v1.train.Optimizer instead.\n",
      "\n",
      "WARNING:tensorflow:From /usr/local/lib/python3.6/dist-packages/keras/backend/tensorflow_backend.py:3576: The name tf.log is deprecated. Please use tf.math.log instead.\n",
      "\n"
     ]
    }
   ],
   "source": [
    "#model.compile(loss='categorical_crossentropy', optimizer='adam', metrics=['acc']) # optimizer=RMSprop(lr=0.001)\n",
    "model.compile(loss='categorical_crossentropy',optimizer=optimizers.RMSprop(lr=1e-4),metrics=['acc'])\n",
    "#optimizers.RMSprop(lr=1e-4)"
   ]
  },
  {
   "cell_type": "code",
   "execution_count": 39,
   "metadata": {
    "colab": {
     "base_uri": "https://localhost:8080/",
     "height": 459
    },
    "colab_type": "code",
    "id": "ce8ZPYC1y6J2",
    "outputId": "d792b518-6980-4657-d430-9e161908b74a"
   },
   "outputs": [
    {
     "name": "stdout",
     "output_type": "stream",
     "text": [
      "Epoch 1/300\n",
      "8/8 [==============================] - 21s 3s/step - loss: 0.0855 - acc: 0.9822 - val_loss: 0.5952 - val_acc: 0.8996\n",
      "Epoch 2/300\n",
      "8/8 [==============================] - 20s 3s/step - loss: 0.0057 - acc: 0.9990 - val_loss: 0.4195 - val_acc: 0.9283\n",
      "Epoch 3/300\n",
      "8/8 [==============================] - 20s 3s/step - loss: 0.0158 - acc: 0.9990 - val_loss: 0.3287 - val_acc: 0.9319\n",
      "Epoch 4/300\n",
      "8/8 [==============================] - 20s 3s/step - loss: 0.0067 - acc: 0.9980 - val_loss: 0.5170 - val_acc: 0.9068\n",
      "Epoch 5/300\n",
      "8/8 [==============================] - 20s 3s/step - loss: 0.0205 - acc: 0.9941 - val_loss: 0.4562 - val_acc: 0.9211\n",
      "Epoch 6/300\n",
      "8/8 [==============================] - 20s 3s/step - loss: 0.0546 - acc: 0.9855 - val_loss: 0.2923 - val_acc: 0.9534\n",
      "Epoch 7/300\n",
      "8/8 [==============================] - 20s 3s/step - loss: 0.0044 - acc: 0.9990 - val_loss: 0.3823 - val_acc: 0.9355\n",
      "Epoch 8/300\n",
      "8/8 [==============================] - 20s 3s/step - loss: 0.0232 - acc: 0.9941 - val_loss: 0.6559 - val_acc: 0.9176\n",
      "Epoch 9/300\n",
      "8/8 [==============================] - 20s 3s/step - loss: 0.0265 - acc: 0.9951 - val_loss: 0.2884 - val_acc: 0.9498\n",
      "Epoch 10/300\n",
      "8/8 [==============================] - 20s 3s/step - loss: 8.9961e-04 - acc: 1.0000 - val_loss: 0.2809 - val_acc: 0.9498\n",
      "Epoch 11/300\n",
      "8/8 [==============================] - 21s 3s/step - loss: 0.0178 - acc: 0.9935 - val_loss: 0.3137 - val_acc: 0.9319\n",
      "Epoch 12/300\n",
      "8/8 [==============================] - 21s 3s/step - loss: 0.0380 - acc: 0.9941 - val_loss: 0.3098 - val_acc: 0.9068\n",
      "Epoch 13/300\n",
      "8/8 [==============================] - 20s 3s/step - loss: 0.0039 - acc: 0.9990 - val_loss: 0.3674 - val_acc: 0.9391\n"
     ]
    }
   ],
   "source": [
    "# Train the model\n",
    "from keras.callbacks import EarlyStopping\n",
    "\n",
    "early_stopping_monitor = EarlyStopping(patience=3)\n",
    "EPOCHS = 300\n",
    "\n",
    "history = model.fit_generator(\n",
    "      train1_generator,validation_data = val1_generator, \n",
    "                   epochs=EPOCHS, callbacks=[early_stopping_monitor],\n",
    "                   verbose=1)  \n"
   ]
  },
  {
   "cell_type": "code",
   "execution_count": 0,
   "metadata": {
    "colab": {},
    "colab_type": "code",
    "id": "GzcgGkmPyMwR"
   },
   "outputs": [],
   "source": [
    "model.save('Image_fine_tuning.h5')\n"
   ]
  },
  {
   "cell_type": "code",
   "execution_count": 60,
   "metadata": {
    "colab": {
     "base_uri": "https://localhost:8080/",
     "height": 350
    },
    "colab_type": "code",
    "id": "56Tmf74h3_cc",
    "outputId": "82c79b12-e59a-49af-e15f-a8514b394f1d"
   },
   "outputs": [
    {
     "data": {
      "image/png": "[encoded data removed]",
      "text/plain": [
       "<Figure size 1080x360 with 2 Axes>"
      ]
     },
     "metadata": {
      "tags": []
     },
     "output_type": "display_data"
    }
   ],
   "source": [
    "def plot_history(history):\n",
    "  plt.figure(figsize=(15, 5))\n",
    "  plt.subplot(1, 2, 1)\n",
    "  plt.xlabel('Epochs')\n",
    "  plt.ylabel('Accuracy')\n",
    "  plt.plot(history.epoch, np.array(history.history['acc']),\n",
    "           label='Train')\n",
    "  plt.plot(history.epoch, np.array(history.history['val_acc']),\n",
    "           label = 'Val')\n",
    "  plt.title('Model Accuracy')\n",
    "  plt.legend()\n",
    "  plt.ylim([0, 5])\n",
    "\n",
    "  plt.subplot(1, 2, 2)\n",
    "  plt.plot(history.history['loss'],label='Train')\n",
    "  plt.plot(history.history['val_loss'],label='Val')\n",
    "  plt.title('Model Loss')\n",
    "  plt.ylabel('Loss')\n",
    "  plt.xlabel('Epochs')\n",
    "  plt.legend()\n",
    "  plt.show()\n",
    "\n",
    "plot_history(history)\n",
    "\n",
    "\n"
   ]
  },
  {
   "cell_type": "markdown",
   "metadata": {
    "colab_type": "text",
    "id": "ZpyH6z9xbPmL"
   },
   "source": [
    "# **Model evaluation**"
   ]
  },
  {
   "cell_type": "markdown",
   "metadata": {
    "colab_type": "text",
    "id": "rW1qNA8MbYTl"
   },
   "source": [
    "**Test set**"
   ]
  },
  {
   "cell_type": "code",
   "execution_count": 47,
   "metadata": {
    "colab": {
     "base_uri": "https://localhost:8080/",
     "height": 34
    },
    "colab_type": "code",
    "id": "R0MF-U6bbeOX",
    "outputId": "b1527092-e3f3-4b07-e9b9-b9c0976d4ec2"
   },
   "outputs": [
    {
     "name": "stdout",
     "output_type": "stream",
     "text": [
      "3/3 [==============================] - 5s 2s/step\n"
     ]
    }
   ],
   "source": [
    "val1_generator.reset()\n",
    "pred=model.predict_generator(val1_generator,\n",
    "verbose=1)"
   ]
  },
  {
   "cell_type": "code",
   "execution_count": 0,
   "metadata": {
    "colab": {},
    "colab_type": "code",
    "id": "Z_Gna9lllGu7"
   },
   "outputs": [],
   "source": [
    "predicted_class_indices=np.argmax(pred,axis=1)"
   ]
  },
  {
   "cell_type": "code",
   "execution_count": 0,
   "metadata": {
    "colab": {},
    "colab_type": "code",
    "id": "u8osqpExlNYP"
   },
   "outputs": [],
   "source": [
    "labels = (train1_generator.class_indices)\n",
    "labels = dict((v,k) for k,v in labels.items())\n",
    "predictions = [labels[k] for k in predicted_class_indices]"
   ]
  },
  {
   "cell_type": "code",
   "execution_count": 52,
   "metadata": {
    "colab": {
     "base_uri": "https://localhost:8080/",
     "height": 359
    },
    "colab_type": "code",
    "id": "U15LaLXalZy7",
    "outputId": "6132a01d-6690-4df1-a68b-c532349cdf01"
   },
   "outputs": [
    {
     "data": {
      "text/html": [
       "<div>\n",
       "<style scoped>\n",
       "    .dataframe tbody tr th:only-of-type {\n",
       "        vertical-align: middle;\n",
       "    }\n",
       "\n",
       "    .dataframe tbody tr th {\n",
       "        vertical-align: top;\n",
       "    }\n",
       "\n",
       "    .dataframe thead th {\n",
       "        text-align: right;\n",
       "    }\n",
       "</style>\n",
       "<table border=\"1\" class=\"dataframe\">\n",
       "  <thead>\n",
       "    <tr style=\"text-align: right;\">\n",
       "      <th></th>\n",
       "      <th>Filename</th>\n",
       "      <th>Predictions</th>\n",
       "    </tr>\n",
       "  </thead>\n",
       "  <tbody>\n",
       "    <tr>\n",
       "      <th>0</th>\n",
       "      <td>JFT_00001.jpg</td>\n",
       "      <td>10</td>\n",
       "    </tr>\n",
       "    <tr>\n",
       "      <th>1</th>\n",
       "      <td>JFT_00003.jpg</td>\n",
       "      <td>23</td>\n",
       "    </tr>\n",
       "    <tr>\n",
       "      <th>2</th>\n",
       "      <td>JFT_00006.jpg</td>\n",
       "      <td>10</td>\n",
       "    </tr>\n",
       "    <tr>\n",
       "      <th>3</th>\n",
       "      <td>JFT_00008.jpg</td>\n",
       "      <td>25</td>\n",
       "    </tr>\n",
       "    <tr>\n",
       "      <th>4</th>\n",
       "      <td>JFT_00018.jpg</td>\n",
       "      <td>3</td>\n",
       "    </tr>\n",
       "    <tr>\n",
       "      <th>5</th>\n",
       "      <td>JFT_00020.jpg</td>\n",
       "      <td>22</td>\n",
       "    </tr>\n",
       "    <tr>\n",
       "      <th>6</th>\n",
       "      <td>JFT_00024.jpg</td>\n",
       "      <td>6</td>\n",
       "    </tr>\n",
       "    <tr>\n",
       "      <th>7</th>\n",
       "      <td>JFT_00026.jpg</td>\n",
       "      <td>24</td>\n",
       "    </tr>\n",
       "    <tr>\n",
       "      <th>8</th>\n",
       "      <td>JFT_00050.jpg</td>\n",
       "      <td>20</td>\n",
       "    </tr>\n",
       "    <tr>\n",
       "      <th>9</th>\n",
       "      <td>JFT_00051.jpg</td>\n",
       "      <td>21</td>\n",
       "    </tr>\n",
       "  </tbody>\n",
       "</table>\n",
       "</div>"
      ],
      "text/plain": [
       "        Filename Predictions\n",
       "0  JFT_00001.jpg          10\n",
       "1  JFT_00003.jpg          23\n",
       "2  JFT_00006.jpg          10\n",
       "3  JFT_00008.jpg          25\n",
       "4  JFT_00018.jpg           3\n",
       "5  JFT_00020.jpg          22\n",
       "6  JFT_00024.jpg           6\n",
       "7  JFT_00026.jpg          24\n",
       "8  JFT_00050.jpg          20\n",
       "9  JFT_00051.jpg          21"
      ]
     },
     "execution_count": 52,
     "metadata": {
      "tags": []
     },
     "output_type": "execute_result"
    }
   ],
   "source": [
    "filenames=val1_generator.filenames\n",
    "results=pd.DataFrame({\"Filename\":filenames,\n",
    "                      \"Predictions\":predictions})\n",
    "results.head(10)\n",
    "#results.to_csv(\"results.csv\",index=False)"
   ]
  }
 ],
 "metadata": {
  "accelerator": "GPU",
  "colab": {
   "collapsed_sections": [],
   "name": "Assignment2-Model2.ipynb",
   "provenance": []
  },
  "kernelspec": {
   "display_name": "Python 3",
   "language": "python",
   "name": "python3"
  }
 },
 "nbformat": 4,
 "nbformat_minor": 1
}
